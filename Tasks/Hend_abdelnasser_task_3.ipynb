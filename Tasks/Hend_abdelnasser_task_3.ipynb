{
  "nbformat": 4,
  "nbformat_minor": 0,
  "metadata": {
    "colab": {
      "provenance": []
    },
    "kernelspec": {
      "name": "python3",
      "display_name": "Python 3"
    },
    "language_info": {
      "name": "python"
    }
  },
  "cells": [
    {
      "cell_type": "markdown",
      "source": [
        "# 1-Write a Python program that takes two numbers as user input and performs addition on them.\n"
      ],
      "metadata": {
        "id": "EHUPiQinNab2"
      }
    },
    {
      "cell_type": "code",
      "execution_count": null,
      "metadata": {
        "colab": {
          "base_uri": "https://localhost:8080/"
        },
        "id": "-jXZPzVRNRsb",
        "outputId": "18a59dc8-f1dc-4c9d-e4d2-362b6ee7bc85"
      },
      "outputs": [
        {
          "output_type": "stream",
          "name": "stdout",
          "text": [
            "Enter the first number: 36\n",
            "Enter the second number: 4\n",
            "the result is:  40\n"
          ]
        }
      ],
      "source": [
        "def addition(a,b):\n",
        "  return a+b\n",
        "\n",
        "num_1 = int(input(\"Enter the first number: \"))\n",
        "num_2 = int(input(\"Enter the second number: \"))\n",
        "\n",
        "result = addition(num_1, num_2)\n",
        "print(\"the result is: \", result)"
      ]
    },
    {
      "cell_type": "markdown",
      "source": [
        "# 2-Write a Python program that takes an integer as input and checks if it is even or odd. Print \"Even\" if the number is divisible by 2, otherwise print \"Odd\"."
      ],
      "metadata": {
        "id": "jRw7qmpBVlzG"
      }
    },
    {
      "cell_type": "code",
      "source": [
        "def Check_Even_or_Odd(a):\n",
        "  if a%2 == 0:\n",
        "    return(\"Even\")\n",
        "  else:\n",
        "    return(\"Odd\")\n",
        "\n",
        "num = int(input(\"Enter a number: \"))\n",
        "result = Check_Even_or_Odd(num)\n",
        "print(result)"
      ],
      "metadata": {
        "colab": {
          "base_uri": "https://localhost:8080/"
        },
        "id": "H8bsEV9ZO1uo",
        "outputId": "86c46ed4-0f5e-40f6-daed-bb9dc6a8a15e"
      },
      "execution_count": null,
      "outputs": [
        {
          "output_type": "stream",
          "name": "stdout",
          "text": [
            "Enter a number: 12\n",
            "Even\n"
          ]
        }
      ]
    },
    {
      "cell_type": "markdown",
      "source": [
        "# 3-Write a Python program that prints all the even numbers from 1 to 20 using a for loop"
      ],
      "metadata": {
        "id": "HvELPnMFa2Mv"
      }
    },
    {
      "cell_type": "code",
      "source": [
        "for i in range(20):\n",
        "  if i % 2 != 0:\n",
        "    print(i)"
      ],
      "metadata": {
        "colab": {
          "base_uri": "https://localhost:8080/"
        },
        "id": "8RmxDhF9O8SR",
        "outputId": "419854b3-feee-48dd-d897-ee40cdab0c62"
      },
      "execution_count": null,
      "outputs": [
        {
          "output_type": "stream",
          "name": "stdout",
          "text": [
            "1\n",
            "3\n",
            "5\n",
            "7\n",
            "9\n",
            "11\n",
            "13\n",
            "15\n",
            "17\n",
            "19\n"
          ]
        }
      ]
    },
    {
      "cell_type": "code",
      "source": [
        "for i in range(1,20,2):\n",
        "  print(i)"
      ],
      "metadata": {
        "colab": {
          "base_uri": "https://localhost:8080/"
        },
        "id": "7SXx3RlEb2ak",
        "outputId": "6cafc024-9f3e-41af-bd4e-08d6f59ca612"
      },
      "execution_count": null,
      "outputs": [
        {
          "output_type": "stream",
          "name": "stdout",
          "text": [
            "1\n",
            "3\n",
            "5\n",
            "7\n",
            "9\n",
            "11\n",
            "13\n",
            "15\n",
            "17\n",
            "19\n"
          ]
        }
      ]
    },
    {
      "cell_type": "markdown",
      "source": [
        "# 4-Write a Python function that takes a string as input and counts the number of vowels (a, e, i, o, u) in the string. The function should return the count"
      ],
      "metadata": {
        "id": "QVTji2NgcSRN"
      }
    },
    {
      "cell_type": "code",
      "source": [
        "text = input(\"Enter a text: \")\n",
        "\n",
        "count = 0\n",
        "\n",
        "for character in text :\n",
        "  if character in \"AaEeIiOoUu\" :\n",
        "    count += 1\n",
        "\n",
        "print(\"Count: \", count)"
      ],
      "metadata": {
        "id": "UoJxbIIncBrw",
        "colab": {
          "base_uri": "https://localhost:8080/"
        },
        "outputId": "d1d48faf-3386-4159-d182-e0ecf358d1b2"
      },
      "execution_count": null,
      "outputs": [
        {
          "output_type": "stream",
          "name": "stdout",
          "text": [
            "Enter a text: Hello Every One\n",
            "Count:  6\n"
          ]
        }
      ]
    },
    {
      "cell_type": "markdown",
      "source": [
        "# 5-Write a Python program that creates a list of numbers from 1 to 10. Use a loop to iterate over the list and print each number of power 2."
      ],
      "metadata": {
        "id": "0J_lsxOlGT50"
      }
    },
    {
      "cell_type": "code",
      "source": [
        "# Create a list of numbers from 1 to 10\n",
        "numbers = list(range(1,10))\n",
        "\n",
        "#Iterate over the list and print the square of each number\n",
        "for num in numbers :\n",
        "  print(num**2)"
      ],
      "metadata": {
        "colab": {
          "base_uri": "https://localhost:8080/"
        },
        "id": "e4Uifl-TF55k",
        "outputId": "c207e42b-1a88-43f6-a30b-3daa520f0b90"
      },
      "execution_count": null,
      "outputs": [
        {
          "output_type": "stream",
          "name": "stdout",
          "text": [
            "1\n",
            "4\n",
            "9\n",
            "16\n",
            "25\n",
            "36\n",
            "49\n",
            "64\n",
            "81\n"
          ]
        }
      ]
    },
    {
      "cell_type": "markdown",
      "source": [
        "# 6-Write a Python program that calculates the average grade for a student based on their scores in different subjects. The program should include the following steps:\n",
        "1-Create variables to store the student's name, subject names, and corresponding scores. Initialize the variables with sample data.\n",
        "\n",
        "2-Prompt the user to enter the student's name and assign it to the name variable.\n",
        "\n",
        "3-Use a loop to prompt the user to enter the subject names and corresponding scores. Store the subject names in a list and the scores in another list.\n",
        "\n",
        "4-After collecting the scores, calculate the average grade by summing up all the scores and dividing by the total number of subjects.\n",
        "\n",
        "5-Check if the average grade is above a 70, print a congratulatory message. Otherwise, print an encouragement message."
      ],
      "metadata": {
        "id": "AEmCHmHkBYKb"
      }
    },
    {
      "cell_type": "code",
      "source": [
        "# 1- Initialize variables\n",
        "student_name = input(\"Enter the student's name: \")  # 2- Get student's name\n",
        "subjects = []  # List to store subject names\n",
        "scores = []  # List to store scores\n",
        "\n",
        "# 3- Ask the user for the number of subjects\n",
        "num_subjects = int(input(\"How many subjects? \"))\n",
        "\n",
        "# Collect subject names and scores\n",
        "for i in range(num_subjects):\n",
        "    subject = input(f\"Enter subject {i+1} name: \")\n",
        "    score = float(input(f\"Enter score for {subject}: \"))\n",
        "\n",
        "    subjects.append(subject)  # Add subject to the list\n",
        "    scores.append(score)  # Add score to the list\n",
        "\n",
        "# 4- Calculate the average grade\n",
        "average_grade = sum(scores) / len(scores)\n",
        "\n",
        "# 5- Display the result\n",
        "print(f\"\\nStudent: {student_name}\")\n",
        "print(f\"Average Grade: {average_grade:.2f}\")\n",
        "\n",
        "if average_grade > 70:\n",
        "    print(\"Congratulations! You have achieved great results.\")\n",
        "else:\n",
        "    print(\"Keep going! You can improve with more practice.\")\n"
      ],
      "metadata": {
        "id": "ftVOOpCFIShQ",
        "colab": {
          "base_uri": "https://localhost:8080/"
        },
        "outputId": "0d2e077c-265e-4979-9254-5fcb77fce163"
      },
      "execution_count": 1,
      "outputs": [
        {
          "output_type": "stream",
          "name": "stdout",
          "text": [
            "Enter the student's name: aya\n",
            "How many subjects? 3\n",
            "Enter subject 1 name: math\n",
            "Enter score for math: 85\n",
            "Enter subject 2 name: Physics\n",
            "Enter score for Physics: 60\n",
            "Enter subject 3 name: Chemistry\n",
            "Enter score for Chemistry: 75\n",
            "\n",
            "Student: aya\n",
            "Average Grade: 73.33\n",
            "Congratulations! You have achieved great results.\n"
          ]
        }
      ]
    },
    {
      "cell_type": "markdown",
      "source": [
        "# 7-Find Common Elements\n",
        "Write a Python function that takes two lists as input and returns a new list containing the common elements present in both lists."
      ],
      "metadata": {
        "id": "3R5sZ6j7H8kd"
      }
    },
    {
      "cell_type": "code",
      "source": [
        "def find_common_elements(list1, list2):\n",
        "    \"\"\"Returns a list of common elements between two lists.\"\"\"\n",
        "    return list(set(list1) & set(list2))  # Using set intersection\n",
        "\n",
        "list_a = [1, 2, 3, 4, 5]\n",
        "list_b = [4, 5, 6, 7, 8]\n",
        "\n",
        "common_elements = find_common_elements(list_a, list_b)\n",
        "print(\"Common elements:\", common_elements)\n"
      ],
      "metadata": {
        "id": "x9JfGchzH8Hw",
        "colab": {
          "base_uri": "https://localhost:8080/"
        },
        "outputId": "2754b267-c210-49d3-a2a4-0e261f9e6993"
      },
      "execution_count": 2,
      "outputs": [
        {
          "output_type": "stream",
          "name": "stdout",
          "text": [
            "Common elements: [4, 5]\n"
          ]
        }
      ]
    },
    {
      "cell_type": "markdown",
      "source": [
        "# 8-Write a Python function that takes a list of numbers and an element to remove from the list."
      ],
      "metadata": {
        "id": "fMkTMjX2Lzty"
      }
    },
    {
      "cell_type": "code",
      "source": [
        "def remove_element(lst, element):\n",
        "    \"\"\"Removes all occurrences of the specified element from the list.\"\"\"\n",
        "    return [x for x in lst if x != element]  # List comprehension to filter out the element\n",
        "\n",
        "numbers = [1, 2, 3, 4, 2, 5, 2]\n",
        "element_to_remove = 2\n",
        "\n",
        "updated_list = remove_element(numbers, element_to_remove)\n",
        "print(\"Updated list:\", updated_list)\n"
      ],
      "metadata": {
        "id": "YbBJkaL7BllK",
        "colab": {
          "base_uri": "https://localhost:8080/"
        },
        "outputId": "c16ceff5-1e4d-4dc5-ac0f-09288bb9c158"
      },
      "execution_count": 3,
      "outputs": [
        {
          "output_type": "stream",
          "name": "stdout",
          "text": [
            "Updated list: [1, 3, 4, 5]\n"
          ]
        }
      ]
    },
    {
      "cell_type": "markdown",
      "source": [
        "# 9-Given 4 numbers A, B, C and D. Print the last 2 digits from their Multiplication.\n",
        "Example :\n",
        " the Multiplication of 4 numbers is 5 * 7 * 2 * 4 = 280 so the answer will be the last 2 digits which are 80."
      ],
      "metadata": {
        "id": "hHxTl7e0PaW2"
      }
    },
    {
      "cell_type": "code",
      "source": [
        "def last_two_digits(A, B, C, D):\n",
        "    \"\"\"Returns the last two digits of the multiplication of four numbers.\"\"\"\n",
        "    result = (A * B * C * D) % 100  # Get the last 2 digits\n",
        "    return f\"{result:02d}\"  # Ensures two-digit format (e.g., \"08\" instead of \"8\")\n",
        "\n",
        "# Example usage:\n",
        "A, B, C, D = 5, 7, 2, 4\n",
        "print(\"Last two digits:\", last_two_digits(A, B, C, D))\n"
      ],
      "metadata": {
        "colab": {
          "base_uri": "https://localhost:8080/"
        },
        "id": "RUv_jLDrPZYZ",
        "outputId": "d24eaaff-c3c8-40ed-8717-234a1bd4488e"
      },
      "execution_count": 4,
      "outputs": [
        {
          "output_type": "stream",
          "name": "stdout",
          "text": [
            "Last two digits: 80\n"
          ]
        }
      ]
    },
    {
      "cell_type": "markdown",
      "source": [
        "# 10- Given a number X. Determine if the number is prime or not"
      ],
      "metadata": {
        "id": "Gexw0XHPPn4p"
      }
    },
    {
      "cell_type": "code",
      "source": [
        "# Ask the user to enter a number\n",
        "X = int(input(\"Enter a number: \"))\n",
        "\n",
        "# Any number less than 2 is not prime\n",
        "if X < 2:\n",
        "    print(\"The number is not prime\")\n",
        "else:\n",
        "    is_prime = True  # Assume the number is prime\n",
        "\n",
        "    # Check if X is divisible by any number from 2 to X-1\n",
        "    for i in range(2, X):\n",
        "        if X % i == 0:\n",
        "            is_prime = False  # Not a prime number\n",
        "            break  # No need to check further\n",
        "\n",
        "    # Print result\n",
        "    if is_prime:\n",
        "        print(\"The number is prime\")\n",
        "    else:\n",
        "        print(\"The number is not prime\")\n"
      ],
      "metadata": {
        "colab": {
          "base_uri": "https://localhost:8080/"
        },
        "id": "PGBikMg-QZ2-",
        "outputId": "655540fa-6d53-45ce-d912-b10223a3192f"
      },
      "execution_count": 5,
      "outputs": [
        {
          "output_type": "stream",
          "name": "stdout",
          "text": [
            "Enter a number: 7\n",
            "The number is prime\n"
          ]
        }
      ]
    },
    {
      "cell_type": "markdown",
      "source": [
        "# 11- Given a number N and a list A of N numbers. Determine if the number X exists in array A or not and print its position (0-index)."
      ],
      "metadata": {
        "id": "mkvgXJoNQmx-"
      }
    },
    {
      "cell_type": "code",
      "source": [
        "# Input the number of elements in the list\n",
        "N = int(input(\"Enter the number of elements (N): \"))\n",
        "\n",
        "# Input the list of numbers\n",
        "A = list(map(int, input(\"Enter the list elements separated by space: \").split()))\n",
        "\n",
        "# Input the number to search for\n",
        "X = int(input(\"Enter the number to search for (X): \"))\n",
        "\n",
        "# Check if X exists in the list\n",
        "if X in A:\n",
        "    position = A.index(X)  # Get the index (0-based)\n",
        "    print(f\"Yes, {X} is found at index {position}.\")\n",
        "else:\n",
        "    print(f\"No, {X} is not in the list.\")\n"
      ],
      "metadata": {
        "colab": {
          "base_uri": "https://localhost:8080/"
        },
        "id": "Xgxo5owzQamm",
        "outputId": "06ec0525-bf24-4b7b-f64d-ed8f991f59cb"
      },
      "execution_count": 8,
      "outputs": [
        {
          "output_type": "stream",
          "name": "stdout",
          "text": [
            "Enter the number of elements (N): 5\n",
            "Enter the list elements separated by space: 10 20 30 40\n",
            "Enter the number to search for (X): 30\n",
            "Yes, 30 is found at index 2.\n"
          ]
        }
      ]
    },
    {
      "cell_type": "markdown",
      "source": [
        "# 12- Given a number N and a list A of N numbers. Determine if the array is lucky or not.\n",
        "Note: the array is lucky if the frequency (number of occurrence) of the minimum element is odd."
      ],
      "metadata": {
        "id": "4g46OeuPV1hD"
      }
    },
    {
      "cell_type": "code",
      "source": [
        "# Input the number of elements\n",
        "N = int(input(\"Enter number of elements (N): \"))\n",
        "\n",
        "# Input the list of numbers\n",
        "A = list(map(int, input(\"Enter the list elements: \").split()))\n",
        "\n",
        "# Find the minimum element\n",
        "min_element = min(A)\n",
        "\n",
        "# Count how many times the minimum element appears\n",
        "frequency = A.count(min_element)\n",
        "\n",
        "# Check if frequency is odd\n",
        "if frequency % 2 == 1:\n",
        "    print(\"Lucky\")\n",
        "else:\n",
        "    print(\"Not Lucky\")\n"
      ],
      "metadata": {
        "colab": {
          "base_uri": "https://localhost:8080/"
        },
        "id": "fmlF7hDCRCEQ",
        "outputId": "3fce4134-bc39-4fee-93df-bacc384d919b"
      },
      "execution_count": 9,
      "outputs": [
        {
          "output_type": "stream",
          "name": "stdout",
          "text": [
            "Enter number of elements (N): 5\n",
            "Enter the list elements: 2 3 2 1 1\n",
            "Not Lucky\n"
          ]
        }
      ]
    },
    {
      "cell_type": "markdown",
      "source": [
        "# 13-Given a number N and a list A of N numbers. Print the array after doing the following operations:\n",
        "Find minimum number in these numbers.\n",
        "Find maximum number in these numbers.\n",
        "Swap minimum number with maximum number."
      ],
      "metadata": {
        "id": "gFQuj4U4SrBc"
      }
    },
    {
      "cell_type": "code",
      "source": [
        "# Input the number of elements\n",
        "N = int(input(\"Enter number of elements (N): \"))\n",
        "\n",
        "# Input the list of numbers\n",
        "A = list(map(int, input(\"Enter the list elements: \").split()))\n",
        "\n",
        "# Find the minimum and maximum elements\n",
        "min_num = min(A)\n",
        "max_num = max(A)\n",
        "\n",
        "# Find the indexes of the minimum and maximum elements\n",
        "min_index = A.index(min_num)\n",
        "max_index = A.index(max_num)\n",
        "\n",
        "# Swap the minimum and maximum numbers\n",
        "A[min_index], A[max_index] = A[max_index], A[min_index]\n",
        "\n",
        "# Print the modified array\n",
        "print(\"Array after swapping min and max:\", A)\n",
        "\n"
      ],
      "metadata": {
        "colab": {
          "base_uri": "https://localhost:8080/"
        },
        "id": "l091qusZSJQw",
        "outputId": "c4fa4324-9e5f-4326-d796-8ddd191bec07"
      },
      "execution_count": 10,
      "outputs": [
        {
          "output_type": "stream",
          "name": "stdout",
          "text": [
            "Enter number of elements (N): 5\n",
            "Enter the list elements: 1 2 3 4  9\n",
            "Array after swapping min and max: [9, 2, 3, 4, 1]\n"
          ]
        }
      ]
    },
    {
      "cell_type": "markdown",
      "source": [
        "# 14-Given a number N and an array A of N numbers. Print the lowest number and its position.\n",
        "Note: if there are more than one answer print first one's position."
      ],
      "metadata": {
        "id": "NcFe-5iOTVLo"
      }
    },
    {
      "cell_type": "code",
      "source": [
        "# Input the number of elements\n",
        "N = int(input(\"Enter number of elements (N): \"))\n",
        "\n",
        "# Input the list of numbers\n",
        "A = list(map(int, input(\"Enter the list elements: \").split()))\n",
        "\n",
        "# Find the minimum element\n",
        "min_num = min(A)\n",
        "\n",
        "# Find the index of the first occurrence of the minimum element\n",
        "min_index = A.index(min_num)\n",
        "\n",
        "# Print the result\n",
        "print(f\"The lowest number is {min_num} and its position is {min_index}.\")\n"
      ],
      "metadata": {
        "colab": {
          "base_uri": "https://localhost:8080/"
        },
        "id": "ZXJ4dLvGTU2R",
        "outputId": "74092293-da2e-4cd1-cfba-1318ca230e6d"
      },
      "execution_count": 11,
      "outputs": [
        {
          "output_type": "stream",
          "name": "stdout",
          "text": [
            "Enter number of elements (N): 6\n",
            "Enter the list elements: 5 2 10 2 8 2\n",
            "The lowest number is 2 and its position is 1.\n"
          ]
        }
      ]
    },
    {
      "cell_type": "markdown",
      "source": [
        "# 15-Given a number N and an array A of N numbers. Print the numbers after sorting them"
      ],
      "metadata": {
        "id": "Oxv6NZdDVCOG"
      }
    },
    {
      "cell_type": "code",
      "source": [
        "# Input the number of elements\n",
        "N = int(input(\"Enter number of elements (N): \"))\n",
        "\n",
        "# Input the list of numbers\n",
        "A = list(map(int, input(\"Enter the list elements: \").split()))\n",
        "\n",
        "# Sort the list\n",
        "A.sort()\n",
        "\n",
        "# Print the sorted list\n",
        "print(\"Sorted list:\", A)\n"
      ],
      "metadata": {
        "colab": {
          "base_uri": "https://localhost:8080/"
        },
        "id": "P_zMZ1nzTUJv",
        "outputId": "c92ad886-f3d5-4a3f-9ce9-8cb44967407b"
      },
      "execution_count": 12,
      "outputs": [
        {
          "output_type": "stream",
          "name": "stdout",
          "text": [
            "Enter number of elements (N): 5\n",
            "Enter the list elements: 3 1 4 5 2\n",
            "Sorted list: [1, 2, 3, 4, 5]\n"
          ]
        }
      ]
    },
    {
      "cell_type": "markdown",
      "source": [
        "# 16- Write a Python program to remove spaces from a given string"
      ],
      "metadata": {
        "id": "hoWqLXSiU8QQ"
      }
    },
    {
      "cell_type": "code",
      "source": [
        "# Input the string\n",
        "input_string = input(\"Enter a string: \")\n",
        "\n",
        "# Remove spaces using replace() method\n",
        "output_string = input_string.replace(\" \", \"\")\n",
        "\n",
        "# Print the result\n",
        "print(\"String without spaces:\", output_string)\n"
      ],
      "metadata": {
        "colab": {
          "base_uri": "https://localhost:8080/"
        },
        "id": "kQYKPgDFSv1i",
        "outputId": "843e4a95-72c1-4d85-877a-0d6c75df4e63"
      },
      "execution_count": 13,
      "outputs": [
        {
          "output_type": "stream",
          "name": "stdout",
          "text": [
            "Enter a string: Hello World\n",
            "String without spaces: HelloWorld\n"
          ]
        }
      ]
    },
    {
      "cell_type": "markdown",
      "source": [
        "# 17-write a Python program to swap first and last element of any list."
      ],
      "metadata": {
        "id": "ssZghKFMU52x"
      }
    },
    {
      "cell_type": "code",
      "source": [
        "# Input the list\n",
        "A = list(map(int, input(\"Enter the list elements: \").split()))\n",
        "\n",
        "# Swap the first and last element\n",
        "A[0], A[-1] = A[-1], A[0]\n",
        "\n",
        "# Print the modified list\n",
        "print(\"List after swapping first and last elements:\", A)\n"
      ],
      "metadata": {
        "colab": {
          "base_uri": "https://localhost:8080/"
        },
        "id": "iRFRyIvMUWGX",
        "outputId": "c55486b3-a59b-404f-aaef-d37a1538d24c"
      },
      "execution_count": 14,
      "outputs": [
        {
          "output_type": "stream",
          "name": "stdout",
          "text": [
            "Enter the list elements: 1 2 3 4 5\n",
            "List after swapping first and last elements: [5, 2, 3, 4, 1]\n"
          ]
        }
      ]
    },
    {
      "cell_type": "markdown",
      "source": [
        "# Write a Python Program to Find HCF.\n",
        "Highest Common Factor(HCF): HCF, or Highest Common Factor, is the largest positive integer that divides two or more numbers without leaving a remainder. Formula: For two numbers a and b, the HCF can be found using the formula:\n",
        "** HCF(𝑎, 𝑏) = GCD(𝑎, 𝑏)** For more than two numbers, you can find the HCF by taking the GCD of pairs of numbers at a time until you reach the last pair.\n",
        "\n",
        "Note: GCD stands for Greatest Common Divisor, use function."
      ],
      "metadata": {
        "id": "zgmG5MmIVifc"
      }
    },
    {
      "cell_type": "code",
      "source": [
        "import math\n",
        "\n",
        "# Function to find HCF of two numbers\n",
        "def hcf(a, b):\n",
        "    return math.gcd(a, b)\n",
        "\n",
        "# Function to find HCF of more than two numbers\n",
        "def hcf_multiple(numbers):\n",
        "    hcf_result = numbers[0]\n",
        "    for num in numbers[1:]:\n",
        "        hcf_result = hcf(hcf_result, num)\n",
        "    return hcf_result\n",
        "\n",
        "# Input the numbers\n",
        "numbers = list(map(int, input(\"Enter numbers separated by space: \").split()))\n",
        "\n",
        "# Calculate the HCF\n",
        "result = hcf_multiple(numbers)\n",
        "\n",
        "# Print the result\n",
        "print(\"The HCF of the given numbers is:\", result)\n"
      ],
      "metadata": {
        "colab": {
          "base_uri": "https://localhost:8080/"
        },
        "id": "u7p6RuC9UuSF",
        "outputId": "1cdd3558-ed25-42f3-c08c-484918a4e443"
      },
      "execution_count": 15,
      "outputs": [
        {
          "output_type": "stream",
          "name": "stdout",
          "text": [
            "Enter numbers separated by space: 12 15 20\n",
            "The HCF of the given numbers is: 1\n"
          ]
        }
      ]
    },
    {
      "cell_type": "code",
      "source": [],
      "metadata": {
        "id": "7qwKqvN9Ve0M"
      },
      "execution_count": null,
      "outputs": []
    }
  ]
}