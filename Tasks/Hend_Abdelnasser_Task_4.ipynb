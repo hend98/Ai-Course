{
  "nbformat": 4,
  "nbformat_minor": 0,
  "metadata": {
    "colab": {
      "provenance": []
    },
    "kernelspec": {
      "name": "python3",
      "display_name": "Python 3"
    },
    "language_info": {
      "name": "python"
    }
  },
  "cells": [
    {
      "cell_type": "markdown",
      "source": [
        "# **1-Write a Python program to calculate the length of a string using 2 ways\n",
        "\n",
        "\n"
      ],
      "metadata": {
        "id": "Tgt119M1cBpo"
      }
    },
    {
      "cell_type": "code",
      "execution_count": null,
      "metadata": {
        "colab": {
          "base_uri": "https://localhost:8080/"
        },
        "id": "3DR5nOG-b5A5",
        "outputId": "8620c3b7-c339-4fdc-9033-ff04b38473c4"
      },
      "outputs": [
        {
          "output_type": "stream",
          "name": "stdout",
          "text": [
            "4\n"
          ]
        }
      ],
      "source": [
        "# Define the string variable\n",
        "string = \"Hend\"\n",
        "\n",
        "# Use f-string to print the length of the string\n",
        "# len(string) calculates the length of the string\n",
        "print(f\"The length of string is: {len(string)}\")"
      ]
    },
    {
      "cell_type": "code",
      "source": [
        "# Define the string variable\n",
        "string = \"Hend\"\n",
        "\n",
        "# Initialize a counter variable to keep track of the length\n",
        "count = 0\n",
        "\n",
        "# Iterate through each character in the string\n",
        "# For each character, increase the count by 1\n",
        "for i in string:\n",
        "    count += 1\n",
        "\n",
        "# Print the calculated length of the string\n",
        "print(\"The length of string is: \", count)\n"
      ],
      "metadata": {
        "colab": {
          "base_uri": "https://localhost:8080/"
        },
        "id": "iHQ_IzktcJnZ",
        "outputId": "2cc3ebcb-aea3-4fc8-deb7-6fd77e2eacfb"
      },
      "execution_count": null,
      "outputs": [
        {
          "output_type": "stream",
          "name": "stdout",
          "text": [
            "4\n"
          ]
        }
      ]
    },
    {
      "cell_type": "markdown",
      "source": [
        "# **2-Write a Python program to get a string made of the first 2 and last 2 characters of a given string. If the string length is less than 2, return the empty string instead (\"##Sample String : 'w3resource' Expected Result : 'w3ce'\n",
        "\n",
        "Sample String : 'w3'\n",
        "Expected Result : 'w3w3'\n",
        "\n",
        "Sample String : ' w'\n",
        "Expected Result : Empty String)"
      ],
      "metadata": {
        "id": "wnHsWnfXrUzd"
      }
    },
    {
      "cell_type": "code",
      "source": [
        "# Prompt the user to input some text\n",
        "text = input(\"Enter text\")\n",
        "\n",
        "# Check if the length of the input text is greater than 2\n",
        "if len(text) > 2:\n",
        "    # Print the first two and last two characters of the string without spaces\n",
        "    print(text[:2], text[-2:], sep=\"\")\n",
        "\n",
        "# Check if the length of the input text is exactly 2\n",
        "elif len(text) == 2:\n",
        "    # Print the input text twice\n",
        "    print(text * 2)\n",
        "\n",
        "# If the length of the input text is less than 2 (i.e., empty or 1 character)\n",
        "else:\n",
        "    # Print a message for an empty or single-character string\n",
        "    print(\"Empty String\")\n"
      ],
      "metadata": {
        "colab": {
          "base_uri": "https://localhost:8080/"
        },
        "id": "b9PIfgmlcgM5",
        "outputId": "3b9e771c-55cf-469f-bd83-0d32fa59491a"
      },
      "execution_count": null,
      "outputs": [
        {
          "output_type": "stream",
          "name": "stdout",
          "text": [
            "Enter textw3resource\n",
            "w3ce\n"
          ]
        }
      ]
    },
    {
      "cell_type": "markdown",
      "source": [
        "# **3-Write a Python program to add 'ing' at the end of a given string (length should be at least 3). If the given string already ends with 'ing', add 'ly' instead. If the string length of the given string is less than 3, leave it unchanged. (Sample String : 'abc' Expected Result : 'abcing')"
      ],
      "metadata": {
        "id": "kxhVLPf39piq"
      }
    },
    {
      "cell_type": "code",
      "source": [
        "# Prompt the user to enter a word\n",
        "word = input(\"Enter a Word\")\n",
        "\n",
        "# Check if the length of the word is greater than or equal to 3\n",
        "if len(word) >= 3:\n",
        "    # If the last 3 characters of the word are not \"ing\", append \"ing\" to the word\n",
        "    if word[-3:] != \"ing\":\n",
        "        print(word + \"ing\")\n",
        "    # If the word ends with \"ing\", replace it with \"ly\"\n",
        "    else:\n",
        "        print(word + \"ly\")\n",
        "# If the word length is less than 3, print the word as is\n",
        "else:\n",
        "    print(word)\n"
      ],
      "metadata": {
        "colab": {
          "base_uri": "https://localhost:8080/"
        },
        "id": "Ylo7h8hJfSW4",
        "outputId": "e83d083b-8567-47bc-a315-56bb68b91183"
      },
      "execution_count": null,
      "outputs": [
        {
          "output_type": "stream",
          "name": "stdout",
          "text": [
            "Enter a Wordabc\n",
            "abcing\n"
          ]
        }
      ]
    },
    {
      "cell_type": "code",
      "source": [
        "# Define a function to modify the word based on specific conditions\n",
        "def modify_word(word):\n",
        "    # If the word ends with \"ing\", add \"ly\" to it; else if its length is 3 or more, add \"ing\"; else, return the word as is\n",
        "    return word + \"ly\" if word.endswith(\"ing\") else word + \"ing\" if len(word) >= 3 else word\n",
        "\n",
        "# Prompt the user to enter a word\n",
        "word = input(\"Enter a Word\")\n",
        "\n",
        "# Print the modified word by calling the modify_word function\n",
        "print(\"Modified word:\", modify_word(word))\n"
      ],
      "metadata": {
        "colab": {
          "base_uri": "https://localhost:8080/"
        },
        "id": "-kCbCzfoA4Af",
        "outputId": "dd2696b3-38f8-47ec-d80f-caa9c4273236"
      },
      "execution_count": null,
      "outputs": [
        {
          "output_type": "stream",
          "name": "stdout",
          "text": [
            "Enter a Wordabc\n",
            "Modified word: abcing\n"
          ]
        }
      ]
    },
    {
      "cell_type": "markdown",
      "source": [
        "# **4-Write a Python function that takes a list of words and return the longest word and the length of the longest one (Longest word: Exercises Length of the longest word: 9)"
      ],
      "metadata": {
        "id": "Az7jvri6KvqM"
      }
    },
    {
      "cell_type": "code",
      "source": [
        "# Define a function to find the longest word in a list and its length\n",
        "def find_longest_word(words):\n",
        "    # Find the word with the maximum length using the max() function\n",
        "    # The key=len argument makes max() compare the length of each word\n",
        "    longest = max(words, key=len)\n",
        "    # Return the longest word and its length\n",
        "    return longest, len(longest)\n",
        "\n",
        "\n",
        "# Get user input - a string of words separated by spaces\n",
        "user_input = input(\"Enter a list of words separated by spaces: \")\n",
        "\n",
        "# Split the input string into a list of individual words\n",
        "words = user_input.split()\n",
        "\n",
        "# Call the function to find the longest word and its length\n",
        "longest_word, length = find_longest_word(words)\n",
        "\n",
        "# Print the longest word and its length\n",
        "print(\"Longest word is: \", longest_word)\n",
        "print(\"Length of the longest word:\", length)\n"
      ],
      "metadata": {
        "colab": {
          "base_uri": "https://localhost:8080/"
        },
        "id": "fqICYI4_JpJL",
        "outputId": "911b6595-d5b5-47a1-d45d-5f1185c7d4af"
      },
      "execution_count": null,
      "outputs": [
        {
          "output_type": "stream",
          "name": "stdout",
          "text": [
            "Enter a list of words separated by spaces: cat elephant dog\n",
            "Longest word is:  elephant\n",
            "Length of the longest word: 8\n"
          ]
        }
      ]
    },
    {
      "cell_type": "markdown",
      "source": [
        "# **5-Write a Python program to change a given string to a newly string where the first and last chars have been exchanged using 2 ways (Sample String:abca Expected Result:ebce)"
      ],
      "metadata": {
        "id": "yEgjGZLPROlH"
      }
    },
    {
      "cell_type": "code",
      "source": [
        "# Define a function to modify the string based on specific conditions\n",
        "def Modify_string(input_str, char):\n",
        "    # If the string length is greater than 2, add the char at the start and end of the string, excluding the first and last characters\n",
        "    if len(input_str) > 2:\n",
        "        return char + input_str[1:-1] + char\n",
        "    # If the string length is 2 or less, return the string as is\n",
        "    else:\n",
        "        return input_str\n",
        "\n",
        "# Get user input for the string\n",
        "string = input(\"Enter a string\")\n",
        "\n",
        "# Get user input for the character to add\n",
        "char = input(\"Enter a char\")\n",
        "\n",
        "# Call the function to modify the string based on the provided inputs\n",
        "result = Modify_string(string, char)\n",
        "\n",
        "# Print the modified string\n",
        "print(result)\n"
      ],
      "metadata": {
        "colab": {
          "base_uri": "https://localhost:8080/"
        },
        "id": "Xli5fi6KI_MJ",
        "outputId": "663eaa16-e587-4c29-f1be-b373275259b9"
      },
      "execution_count": null,
      "outputs": [
        {
          "output_type": "stream",
          "name": "stdout",
          "text": [
            "Enter a stringabca\n",
            "Enter a chare\n",
            "ebce\n"
          ]
        }
      ]
    },
    {
      "cell_type": "code",
      "source": [
        "def Replace_first_and_last_char(input_str, char):\n",
        "    # If the string has less than 2 characters\n",
        "    if len(input_str) < 2:\n",
        "        # If the string is empty, return the character twice\n",
        "        if not input_str:\n",
        "            return char + char\n",
        "        # If the string has only one character, add the given character at the beginning and end\n",
        "        else:\n",
        "            return char + input_str + char\n",
        "\n",
        "    # Initialize the result with the given character at the beginning\n",
        "    result = char\n",
        "    # Loop through the string from index 1 to the second to last index\n",
        "    for index in range(1, len(input_str)-1):\n",
        "        result += input_str[index]\n",
        "    # Add the given character at the end\n",
        "    result += char\n",
        "    return result\n",
        "\n",
        "# Get input from the user\n",
        "string = input(\"Enter the string: \")\n",
        "char = input(\"Enter the character you want to add: \")\n",
        "# Print the result after calling the function\n",
        "print(\"Result:\", Replace_first_and_last_char(string, char))\n"
      ],
      "metadata": {
        "colab": {
          "base_uri": "https://localhost:8080/"
        },
        "id": "oTzyFTvCTxUP",
        "outputId": "3dffcdcb-4075-4a09-97b9-77af14091c1d"
      },
      "execution_count": null,
      "outputs": [
        {
          "output_type": "stream",
          "name": "stdout",
          "text": [
            "Enter the string: abca\n",
            "Enter the character you want to add: e\n",
            "Result: ebce\n"
          ]
        }
      ]
    },
    {
      "cell_type": "code",
      "source": [
        "def Replace_first_and_last_char(input_str, char):\n",
        "    result = \"\"\n",
        "    index = 0\n",
        "    length = len(input_str)\n",
        "\n",
        "    # If the string has fewer than 2 characters, return the input string as it is\n",
        "    if length <= 2:\n",
        "        return input_str\n",
        "\n",
        "    # Loop through the string\n",
        "    while index < length:\n",
        "        # If the index is 0 (first character) or length - 1 (last character)\n",
        "        if index == 0 or index == length - 1:\n",
        "            result += char  # Replace the first or last character with the given char\n",
        "        else:\n",
        "            result += input_str[index]  # Add the middle characters as they are\n",
        "        index += 1  # Always increment the index\n",
        "\n",
        "    return result\n",
        "\n",
        "# Input from user\n",
        "string = input(\"Enter a string: \")\n",
        "char = input(\"Enter a char: \")\n",
        "\n",
        "# Get the result from the function\n",
        "result = Replace_first_and_last_char(string, char)\n",
        "\n",
        "# Output the result\n",
        "print(result)\n"
      ],
      "metadata": {
        "colab": {
          "base_uri": "https://localhost:8080/"
        },
        "id": "n-ppTERXKxV2",
        "outputId": "f6772ec1-eba9-4b89-a33d-43783e479b41"
      },
      "execution_count": null,
      "outputs": [
        {
          "output_type": "stream",
          "name": "stdout",
          "text": [
            "Enter a string: abca\n",
            "Enter a char: e\n",
            "ebce\n"
          ]
        }
      ]
    },
    {
      "cell_type": "code",
      "source": [
        "# Define the sample string\n",
        "Sample_String = \"abca\"\n",
        "\n",
        "# Print the string by adding \"e\" at the start and end,\n",
        "# and slicing the string to get characters from index 1 to 2 (inclusive of 1, exclusive of 3)\n",
        "print(\"e\" + Sample_String[1:3] + \"e\")\n"
      ],
      "metadata": {
        "id": "AqNWy-pIPvYu",
        "colab": {
          "base_uri": "https://localhost:8080/"
        },
        "outputId": "5f4e60d6-b08a-4280-bffa-4e5269d828fe"
      },
      "execution_count": 17,
      "outputs": [
        {
          "output_type": "stream",
          "name": "stdout",
          "text": [
            "ebce\n"
          ]
        }
      ]
    },
    {
      "cell_type": "markdown",
      "source": [
        "# **6-Write a Python program to remove characters that have odd index values in a given string (Sample String:abca Expected Result:ac)"
      ],
      "metadata": {
        "id": "Y1MqQ1GIjYIR"
      }
    },
    {
      "cell_type": "code",
      "source": [
        "# Define a function to remove characters at odd indices from the string\n",
        "def remove_odd_index_characters(string):\n",
        "    # Initialize an empty string to store the result\n",
        "    result = \"\"\n",
        "\n",
        "    # Loop through the string using its indices\n",
        "    for i in range(len(string)):\n",
        "        # Check if the index is even (odd indices are skipped)\n",
        "        if i % 2 == 0:\n",
        "            result += string[i]  # Add the character at even index to the result string\n",
        "\n",
        "    # Return the result string with characters at even indices only\n",
        "    return result\n",
        "\n",
        "# Define the input string\n",
        "sample_string = \"abca\"\n",
        "\n",
        "# Call the function to remove characters at odd indices\n",
        "result = remove_odd_index_characters(sample_string)\n",
        "\n",
        "# Print the modified string as expected result\n",
        "print(\"Expected Result:\", result)\n"
      ],
      "metadata": {
        "colab": {
          "base_uri": "https://localhost:8080/"
        },
        "id": "ELlPFuWcjc2Z",
        "outputId": "2add35fc-d66c-47c2-bdcb-86d839ae1124"
      },
      "execution_count": null,
      "outputs": [
        {
          "output_type": "stream",
          "name": "stdout",
          "text": [
            "Expected Result: ac\n"
          ]
        }
      ]
    },
    {
      "cell_type": "markdown",
      "source": [
        "# **7-Write a Python program to count the occurrences of each word in a given sentence (Sample String:amr and ahmed are frindes but amr is the tallest Expected Result:2)"
      ],
      "metadata": {
        "id": "akqcuJUYYC-w"
      }
    },
    {
      "cell_type": "code",
      "source": [
        "# Define the input sentence\n",
        "sentence = \"amr and ahmed are frindes but amr is the tallest\"\n",
        "\n",
        "# Define a function to count occurrences of a word in a sentence\n",
        "def count_word_occurrences(sentence, word):\n",
        "    # Split the sentence into words and count the occurrences of the specified word\n",
        "    return sentence.split().count(word)\n",
        "\n",
        "# Call the function to count the occurrences of the word \"amr\" in the sentence\n",
        "word = count_word_occurrences(sentence, \"amr\")\n",
        "\n",
        "# Print the result, which is the number of times \"amr\" appears in the sentence\n",
        "print(word)\n"
      ],
      "metadata": {
        "colab": {
          "base_uri": "https://localhost:8080/"
        },
        "id": "CgLeJr9dhzzo",
        "outputId": "be194b35-8a93-4e54-81cc-43df2a254c56"
      },
      "execution_count": null,
      "outputs": [
        {
          "output_type": "stream",
          "name": "stdout",
          "text": [
            "2\n"
          ]
        }
      ]
    },
    {
      "cell_type": "code",
      "source": [
        "# Import the Counter class from the collections module to count word occurrences\n",
        "from collections import Counter\n",
        "\n",
        "# Prompt the user to input a sentence\n",
        "sentence = input(\"Enter a sentence: \")\n",
        "\n",
        "# Convert the sentence to lowercase and split it into words, then count the occurrences of each word using Counter\n",
        "word_count = Counter(sentence.lower().split())\n",
        "\n",
        "# Iterate over each word and its count in the word_count dictionary\n",
        "for word, count in word_count.items():\n",
        "    # Print the word and its count\n",
        "    print(f\"{word}: {count}\")\n",
        "\n"
      ],
      "metadata": {
        "colab": {
          "base_uri": "https://localhost:8080/"
        },
        "id": "BfTw32i5csgY",
        "outputId": "18361846-9f20-49e6-cacb-20188d3ca208"
      },
      "execution_count": 18,
      "outputs": [
        {
          "output_type": "stream",
          "name": "stdout",
          "text": [
            "Enter a sentence: amr and ahmed are frindes but amr is the tallest\n",
            "amr: 2\n",
            "and: 1\n",
            "ahmed: 1\n",
            "are: 1\n",
            "frindes: 1\n",
            "but: 1\n",
            "is: 1\n",
            "the: 1\n",
            "tallest: 1\n"
          ]
        }
      ]
    },
    {
      "cell_type": "code",
      "source": [
        "# Prompt the user to input a sentence\n",
        "sentence = input(\"Enter a sentence: \")\n",
        "\n",
        "# Split the sentence into a list of words\n",
        "words = sentence.split()  # Split the sentence into a list of words\n",
        "\n",
        "# Initialize an empty dictionary to store the count of each word\n",
        "word_count = {}  # Dictionary to store the count of each word\n",
        "\n",
        "# Loop through each word in the list of words\n",
        "for word in words:\n",
        "    # If the word is already in the dictionary, increment its count\n",
        "    if word in word_count:\n",
        "        word_count[word] += 1\n",
        "    else:\n",
        "        # If the word is not in the dictionary, add it with a count of 1\n",
        "        word_count[word] = 1\n",
        "\n",
        "# Iterate over the dictionary and print each word and its count\n",
        "for word, count in word_count.items():\n",
        "    print(f\"Word: {word}, Count: {count}\")\n",
        "\n"
      ],
      "metadata": {
        "id": "gCorb5Z4nyZx",
        "colab": {
          "base_uri": "https://localhost:8080/"
        },
        "outputId": "ffbd5dc8-a8e9-47e3-a204-13b55445813a"
      },
      "execution_count": 19,
      "outputs": [
        {
          "output_type": "stream",
          "name": "stdout",
          "text": [
            "Enter a sentence: amr and ahmed are frindes but amr is the tallest\n",
            "Word: amr, Count: 2\n",
            "Word: and, Count: 1\n",
            "Word: ahmed, Count: 1\n",
            "Word: are, Count: 1\n",
            "Word: frindes, Count: 1\n",
            "Word: but, Count: 1\n",
            "Word: is, Count: 1\n",
            "Word: the, Count: 1\n",
            "Word: tallest, Count: 1\n"
          ]
        }
      ]
    },
    {
      "cell_type": "markdown",
      "source": [
        "# **8-Write a Python script that takes input from the user and displays that input back in upper and lower cases"
      ],
      "metadata": {
        "id": "9yj8ChlSj1I0"
      }
    },
    {
      "cell_type": "code",
      "source": [
        "# Define a function to return the original, upper case, and lower case versions of the input text\n",
        "def get_upper_lower(text):\n",
        "    # Return a dictionary with the original text, upper case, and lower case versions\n",
        "    return {\n",
        "        \"original\": text,\n",
        "        \"UpperCase\": text.upper(),  # Convert the text to upper case\n",
        "        \"LowerCase\": text.lower()   # Convert the text to lower case\n",
        "    }\n",
        "\n",
        "# Prompt the user to input text\n",
        "user_text = input(\"Enter text: \")\n",
        "\n",
        "# Call the function to get the upper and lower case versions of the input text\n",
        "result = get_upper_lower(user_text)\n",
        "\n",
        "# Print the upper case version of the input text\n",
        "print(f\"UpperCase: {result['UpperCase']}\")\n",
        "\n",
        "# Print the lower case version of the input text\n",
        "print(f\"LowerCase: {result['LowerCase']}\")\n"
      ],
      "metadata": {
        "colab": {
          "base_uri": "https://localhost:8080/"
        },
        "id": "azP13NxPZE8l",
        "outputId": "a4293181-647e-4dcf-c1cc-36d2f348a3fc"
      },
      "execution_count": null,
      "outputs": [
        {
          "output_type": "stream",
          "name": "stdout",
          "text": [
            "Enter text: hend abdelnasser\n",
            "UpperCase: HEND ABDELNASSER\n",
            "LowerCase: hend abdelnasser\n"
          ]
        }
      ]
    },
    {
      "cell_type": "markdown",
      "source": [
        "# **9-Write a Python function to reverse a string if its length is a multiple of 4"
      ],
      "metadata": {
        "id": "m2P5JWDeolOn"
      }
    },
    {
      "cell_type": "code",
      "source": [
        "# Define a function to reverse the text if its length is a multiple of 4\n",
        "def reverse_if_multiple_of_four(text):\n",
        "    # Check if the length of the text is divisible by 4\n",
        "    if len(text) % 4 == 0:\n",
        "        # Reverse the text using slicing\n",
        "        return text[::-1]\n",
        "    else:\n",
        "        # Return the original text if the length is not a multiple of 4\n",
        "        return text\n",
        "\n",
        "# Prompt the user to input text\n",
        "text = input(\"Enter a text: \")\n",
        "\n",
        "# Call the function to reverse the text if its length is a multiple of 4\n",
        "result = reverse_if_multiple_of_four(text)\n",
        "\n",
        "# Print the result\n",
        "print(f\"Result: {result}\")\n"
      ],
      "metadata": {
        "colab": {
          "base_uri": "https://localhost:8080/"
        },
        "id": "1EzxPg9OlPUt",
        "outputId": "a083047e-15b4-46bc-9b8d-1ef98ff6e437"
      },
      "execution_count": null,
      "outputs": [
        {
          "output_type": "stream",
          "name": "stdout",
          "text": [
            "Enter a text: hend\n",
            "Result: dneh\n"
          ]
        }
      ]
    },
    {
      "cell_type": "markdown",
      "source": [
        "# **10- Write a Python program to remove a newline in Python"
      ],
      "metadata": {
        "id": "FXan6pjxqcAz"
      }
    },
    {
      "cell_type": "code",
      "source": [
        "# Define a function to remove newline characters from the text\n",
        "def remove_newline(text):\n",
        "    # Use the strip() method to remove newline characters ('\\n') from both ends of the string\n",
        "    return text.strip(\"\\n\")\n",
        "\n",
        "# Define a sample text with a newline character at the end\n",
        "text = \"Hello World\\n\"\n",
        "\n",
        "# Call the function to remove the newline character from the text\n",
        "r = remove_newline(text)\n",
        "\n",
        "# Print the result after removing the newline character\n",
        "print(r)\n"
      ],
      "metadata": {
        "colab": {
          "base_uri": "https://localhost:8080/"
        },
        "id": "jo91aV8lqCB5",
        "outputId": "ac0575a4-ddf2-43e4-9c21-67d04bc4fd64"
      },
      "execution_count": null,
      "outputs": [
        {
          "output_type": "stream",
          "name": "stdout",
          "text": [
            "Hello World\n"
          ]
        }
      ]
    },
    {
      "cell_type": "code",
      "source": [
        "# Define a function to replace newline characters with a space\n",
        "def remove_newline(text):\n",
        "    # Use the replace() method to replace newline characters ('\\n') with a space\n",
        "    return text.replace(\"\\n\", \" \")\n",
        "\n",
        "# Define a sample text with a newline character at the end\n",
        "text = \"Hello World\\n\"\n",
        "\n",
        "# Call the function to replace the newline character with a space\n",
        "r = remove_newline(text)\n",
        "\n",
        "# Print the result after replacing the newline character\n",
        "print(r)\n"
      ],
      "metadata": {
        "colab": {
          "base_uri": "https://localhost:8080/"
        },
        "id": "TvqpxXDTr6aZ",
        "outputId": "85f0822b-a8a4-4572-87e2-af7b33cd385f"
      },
      "execution_count": null,
      "outputs": [
        {
          "output_type": "stream",
          "name": "stdout",
          "text": [
            "Hello World \n"
          ]
        }
      ]
    },
    {
      "cell_type": "markdown",
      "source": [
        "# **11-Write a Python program to check whether a string starts with specified characters"
      ],
      "metadata": {
        "id": "wmSwGsb33sL6"
      }
    },
    {
      "cell_type": "code",
      "source": [
        "# Define a function to check if the string starts with a specified prefix\n",
        "def check_starts_with(text, prefix):\n",
        "    # Check if the string starts with the specified prefix using the startswith() method\n",
        "    if text.startswith(prefix):\n",
        "        return True  # Return True if the string starts with the prefix\n",
        "    else:\n",
        "        return False  # Return False if the string does not start with the prefix\n",
        "\n",
        "# Get user input for the text and the prefix to check\n",
        "user_input = input(\"Enter a text: \")\n",
        "\n",
        "# Get the prefix from the user to check if the text starts with it\n",
        "prefix_input = input(\"Enter the prefix to check: \")\n",
        "\n",
        "# Call the function with the user input to check if the text starts with the given prefix\n",
        "result = check_starts_with(user_input, prefix_input)\n",
        "\n",
        "# Print the result, which will be True or False\n",
        "print(result)\n"
      ],
      "metadata": {
        "colab": {
          "base_uri": "https://localhost:8080/"
        },
        "id": "ASkxsZ_QubyV",
        "outputId": "fa91c8d4-2ecc-44af-a547-0b6347a26ea1"
      },
      "execution_count": null,
      "outputs": [
        {
          "output_type": "stream",
          "name": "stdout",
          "text": [
            "Enter a text: #hello world\n",
            "Enter the prefix to check: #\n",
            "True\n"
          ]
        }
      ]
    },
    {
      "cell_type": "markdown",
      "source": [
        "# **12- Write a Python program to add prefix text to all of the lines in a string"
      ],
      "metadata": {
        "id": "y4fy2I_B-dNN"
      }
    },
    {
      "cell_type": "code",
      "source": [
        "# Import the textwrap module to work with text formatting\n",
        "import textwrap\n",
        "\n",
        "# Sample multi-line string to demonstrate text wrapping and indentation\n",
        "sample_text = '''\n",
        "    Python is a widely used high-level, general-purpose, interpreted,\n",
        "    dynamic programming language. Its design philosophy emphasizes\n",
        "    code readability, and its syntax allows programmers to express\n",
        "    concepts in fewer lines of code than possible in languages such\n",
        "    as C++ or Java.\n",
        "    '''\n",
        "\n",
        "# Remove leading indentation from the sample text using dedent\n",
        "text_without_Indentation = textwrap.dedent(sample_text)\n",
        "\n",
        "# Wrap the text to a maximum width of 50 characters per line\n",
        "wrapped = textwrap.fill(text_without_Indentation, width=50)\n",
        "\n",
        "# Add indentation to the wrapped text by prefixing each line with '> '\n",
        "final_result = textwrap.indent(wrapped, '> ')\n",
        "\n",
        "# Print the final formatted result\n",
        "print(final_result)\n"
      ],
      "metadata": {
        "id": "V8WQNoDp_kJz",
        "colab": {
          "base_uri": "https://localhost:8080/"
        },
        "outputId": "e842ec37-a058-494d-a888-495bf35ececc"
      },
      "execution_count": null,
      "outputs": [
        {
          "output_type": "stream",
          "name": "stdout",
          "text": [
            "\n",
            ">  Python is a widely used high-level, general-\n",
            "> purpose, interpreted, dynamic programming\n",
            "> language. Its design philosophy emphasizes code\n",
            "> readability, and its syntax allows programmers to\n",
            "> express concepts in fewer lines of code than\n",
            "> possible in languages such as C++ or Java.\n",
            "\n"
          ]
        }
      ]
    },
    {
      "cell_type": "markdown",
      "source": [
        "# **13-Write a Python program to print the following numbers up to 2 decimal places"
      ],
      "metadata": {
        "id": "FpsZ6HIqRTrG"
      }
    },
    {
      "cell_type": "code",
      "source": [
        "# Define a list of floating-point numbers\n",
        "numbers = [3.14159, 2.71828, 1.61803, 0.7071, 5.0]\n",
        "\n",
        "# Loop through each number in the list\n",
        "for num in numbers:\n",
        "    # Round the number to 2 decimal places and print it\n",
        "    print(round(num, 2))\n"
      ],
      "metadata": {
        "colab": {
          "base_uri": "https://localhost:8080/"
        },
        "id": "O8AIH3w1NZqB",
        "outputId": "4e086909-b837-49f4-91aa-6b9af956382c"
      },
      "execution_count": null,
      "outputs": [
        {
          "output_type": "stream",
          "name": "stdout",
          "text": [
            "3.14\n",
            "2.72\n",
            "1.62\n",
            "0.71\n",
            "5.0\n"
          ]
        }
      ]
    },
    {
      "cell_type": "markdown",
      "source": [
        "# **14-Write a Python program to print the following numbers up to 2 decimal places with a sign"
      ],
      "metadata": {
        "id": "Z8LHUbX7SlLw"
      }
    },
    {
      "cell_type": "code",
      "source": [
        "# Define a list of floating-point numbers, including both positive and negative values\n",
        "numbers = [3.14159, -2.71828, 1.61803, -0.7071, 5.0, -10]\n",
        "\n",
        "# Loop through each number in the list\n",
        "for num in numbers:\n",
        "    # Print the number rounded to 2 decimal places\n",
        "    # Always show the sign (+ or -) using formatted string\n",
        "    print(f\"{num:+.2f}\")"
      ],
      "metadata": {
        "colab": {
          "base_uri": "https://localhost:8080/"
        },
        "id": "JH4f7kwsSWZz",
        "outputId": "fd90a314-9e4f-41a2-ae4a-e0c7cecdefaf"
      },
      "execution_count": null,
      "outputs": [
        {
          "output_type": "stream",
          "name": "stdout",
          "text": [
            "+3.14\n",
            "-2.72\n",
            "+1.62\n",
            "-0.71\n",
            "+5.00\n",
            "-10.00\n"
          ]
        }
      ]
    },
    {
      "cell_type": "markdown",
      "source": [
        "# **15-Write a Python program to display a number with a comma separator"
      ],
      "metadata": {
        "id": "J-IbV956Tr10"
      }
    },
    {
      "cell_type": "code",
      "source": [
        "# Define a floating-point number\n",
        "number = 9876543.210\n",
        "\n",
        "# Format the number with commas as thousands separators\n",
        "# and round it to 2 decimal places\n",
        "print(f\"{number:,.2f}\")\n"
      ],
      "metadata": {
        "colab": {
          "base_uri": "https://localhost:8080/"
        },
        "id": "Eb1SYTkLTMIt",
        "outputId": "4b2227d4-0c3f-4654-b095-b79ed7aac628"
      },
      "execution_count": null,
      "outputs": [
        {
          "output_type": "stream",
          "name": "stdout",
          "text": [
            "9,876,543.21\n"
          ]
        }
      ]
    },
    {
      "cell_type": "markdown",
      "source": [
        "# **16-Write a Python program to reverse a string using 2 ways"
      ],
      "metadata": {
        "id": "50zZAuLiU350"
      }
    },
    {
      "cell_type": "code",
      "source": [
        "# Define a function to reverse the input string\n",
        "def reverse_string(string):\n",
        "    # Use slicing to reverse the string\n",
        "    return string[::-1]\n",
        "\n",
        "# Get user input for the string\n",
        "string = input(\"Enter a string: \")\n",
        "\n",
        "# Call the function to reverse the string\n",
        "reverse = reverse_string(string)\n",
        "\n",
        "# Print the reversed string\n",
        "print(reverse)\n"
      ],
      "metadata": {
        "id": "CodUloZeUvPJ",
        "colab": {
          "base_uri": "https://localhost:8080/"
        },
        "outputId": "6fcf0929-c2ab-44e5-cfb3-99f62a5a1e2b"
      },
      "execution_count": null,
      "outputs": [
        {
          "output_type": "stream",
          "name": "stdout",
          "text": [
            "Enter a string: hend\n",
            "dneh\n"
          ]
        }
      ]
    },
    {
      "cell_type": "code",
      "source": [
        "# Define a function to reverse a string using the reversed() function\n",
        "def reverse_string(string):\n",
        "    # reversed() returns an iterator that yields characters in reverse order\n",
        "    # \"\".join(...) joins the characters into a new reversed string\n",
        "    return \"\".join(reversed(string))\n",
        "\n",
        "# Get user input for the string\n",
        "string = input(\"Enter a string: \")\n",
        "\n",
        "# Call the function to get the reversed string\n",
        "reverse = reverse_string(string)\n",
        "\n",
        "# Print the reversed string\n",
        "print(reverse)\n"
      ],
      "metadata": {
        "colab": {
          "base_uri": "https://localhost:8080/"
        },
        "id": "bd99DKjldc7B",
        "outputId": "0aba2e37-1ff9-4e60-9a10-6b0450290b7a"
      },
      "execution_count": null,
      "outputs": [
        {
          "output_type": "stream",
          "name": "stdout",
          "text": [
            "Enter a string: hend\n",
            "dneh\n"
          ]
        }
      ]
    },
    {
      "cell_type": "markdown",
      "source": [
        "# **17-Write a Python program to count repeated characters in a string (hint:use dictionary)"
      ],
      "metadata": {
        "id": "71_kp_RTfqN9"
      }
    },
    {
      "cell_type": "code",
      "source": [
        "# Define a function to count the occurrences of each character in the text\n",
        "def count_characters(text):\n",
        "    char_count = {}  # Dictionary to store character counts\n",
        "    for char in text.lower():  # Convert text to lowercase for case-insensitive counting\n",
        "        if char in char_count:\n",
        "            char_count[char] += 1  # Increment count if character already exists\n",
        "        else:\n",
        "            char_count[char] = 1  # Initialize count if character is new\n",
        "    return char_count\n",
        "\n",
        "# Get user input\n",
        "input_string = input(\"Enter a string: \")\n",
        "\n",
        "# Call the function and store the result\n",
        "result = count_characters(input_string)\n",
        "\n",
        "# Print only characters that occur more than once\n",
        "print(\"Repeated characters:\")\n",
        "for char, count in result.items():\n",
        "    if count > 1:\n",
        "        print(f\"'{char}': {count}\")"
      ],
      "metadata": {
        "colab": {
          "base_uri": "https://localhost:8080/"
        },
        "id": "5VYZpIkqdmSU",
        "outputId": "a928fb2a-3f83-4ef9-c56c-0d85e3f3b40d"
      },
      "execution_count": null,
      "outputs": [
        {
          "output_type": "stream",
          "name": "stdout",
          "text": [
            "Enter a string: hello Hend Abdelnasser\n",
            "Repeated characters:\n",
            "'h': 2\n",
            "'e': 4\n",
            "'l': 3\n",
            "' ': 2\n",
            "'n': 2\n",
            "'d': 2\n",
            "'a': 2\n",
            "'s': 2\n"
          ]
        }
      ]
    },
    {
      "cell_type": "markdown",
      "source": [
        "# **18-Write a Python program to find the first non-repeating character in a given string"
      ],
      "metadata": {
        "id": "Iy2OHVDkolkl"
      }
    },
    {
      "cell_type": "code",
      "source": [
        "from collections import Counter\n",
        "\n",
        "# Define a function to find the first non-repeating character in the string\n",
        "def first_non_repeating_char(text):\n",
        "    # Count the frequency of each character (case-insensitive)\n",
        "    count = Counter(text.lower())\n",
        "\n",
        "    # Loop through the original text to preserve original casing\n",
        "    for char in text:\n",
        "        if count[char.lower()] == 1:  # Check lowercase version for frequency\n",
        "            return char  # Return the first character with count = 1\n",
        "\n",
        "    return None  # Return None if no non-repeating character is found\n",
        "\n",
        "# Get user input\n",
        "text = input(\"Enter a string: \")\n",
        "\n",
        "# Call the function and print the result\n",
        "result = first_non_repeating_char(text)\n",
        "print(\"The first non-repeating character is:\", result)\n"
      ],
      "metadata": {
        "colab": {
          "base_uri": "https://localhost:8080/"
        },
        "id": "CxffvcQrhdi1",
        "outputId": "6e32e527-f191-47c2-8f38-0717407c4d22"
      },
      "execution_count": null,
      "outputs": [
        {
          "output_type": "stream",
          "name": "stdout",
          "text": [
            "Enter a string: Abca\n",
            "The first non-repeating character is:  b\n"
          ]
        }
      ]
    },
    {
      "cell_type": "markdown",
      "source": [
        "# **19-Write a Python program to remove spaces from a given string"
      ],
      "metadata": {
        "id": "aVrix768txl_"
      }
    },
    {
      "cell_type": "code",
      "source": [
        "# Define a function to remove all spaces from the string\n",
        "def remove_space(s):\n",
        "    # Use the replace() method to remove all space characters\n",
        "    return s.replace(\" \", \"\")\n",
        "\n",
        "# Get user input for the string\n",
        "string = input(\"Enter a string: \")\n",
        "\n",
        "# Call the function to remove spaces\n",
        "result = remove_space(string)\n",
        "\n",
        "# Print the result without spaces\n",
        "print(result)"
      ],
      "metadata": {
        "colab": {
          "base_uri": "https://localhost:8080/"
        },
        "id": "xnQFtb75tqkr",
        "outputId": "1b3388cf-1d0e-4d2d-9be9-3151c346f24a"
      },
      "execution_count": null,
      "outputs": [
        {
          "output_type": "stream",
          "name": "stdout",
          "text": [
            "Enter astring: Hend Abdelnasser\n",
            "HendAbdelnasser\n"
          ]
        }
      ]
    },
    {
      "cell_type": "markdown",
      "source": [
        "# **20-Write a Python program to count the number of non-empty substrings of a given string"
      ],
      "metadata": {
        "id": "U3VVXM5mvHmM"
      }
    },
    {
      "cell_type": "code",
      "source": [
        "# Define a function to count the number of non-empty substrings in a given string\n",
        "def count_substrings(text):\n",
        "    n = len(text)  # Get the length of the string\n",
        "    # Use the formula for the number of non-empty substrings: n * (n + 1) // 2\n",
        "    return n * (n + 1) // 2\n",
        "\n",
        "# Get user input for the string\n",
        "user_input = input(\"Enter a string: \")\n",
        "\n",
        "# Call the function to count substrings\n",
        "result = count_substrings(user_input)\n",
        "\n",
        "# Print the result\n",
        "print(\"Number of non-empty substrings:\", result)"
      ],
      "metadata": {
        "colab": {
          "base_uri": "https://localhost:8080/"
        },
        "id": "bsDt5blwuz-5",
        "outputId": "1043ebe2-3d59-48cd-d84e-a417d8063741"
      },
      "execution_count": null,
      "outputs": [
        {
          "output_type": "stream",
          "name": "stdout",
          "text": [
            "Enter a string: abc\n",
            "Number of non-empty substrings: 6\n"
          ]
        }
      ]
    },
    {
      "cell_type": "markdown",
      "source": [
        "# **21-write a Python program to swap first and last element of any list."
      ],
      "metadata": {
        "id": "Grkex2Xeb7Ym"
      }
    },
    {
      "cell_type": "code",
      "source": [
        "# Get user input for the list, and split the input into individual elements\n",
        "list1 = input(\"Enter a list: \").split()\n",
        "\n",
        "# Swap the first element with the last element of the list\n",
        "list1[0], list1[-1] = list1[-1], list1[0]\n",
        "\n",
        "# Print the modified list after the swap\n",
        "print(list1)"
      ],
      "metadata": {
        "id": "GXWFR1n8yAWZ",
        "colab": {
          "base_uri": "https://localhost:8080/"
        },
        "outputId": "7e2b3b7a-4203-4e16-f816-1aec644046fa"
      },
      "execution_count": null,
      "outputs": [
        {
          "output_type": "stream",
          "name": "stdout",
          "text": [
            "Enter a list1 2 3 4 5\n",
            "['5', '2', '3', '4', '1']\n"
          ]
        }
      ]
    },
    {
      "cell_type": "markdown",
      "source": [
        "# **22-Given a list in Python and provided the positions of the elements, write a program to swap the two elements in the list. (Input : List = [23, 65, 19, 90], pos1 = 1, pos2 = 3 Output : [19, 65, 23, 90])"
      ],
      "metadata": {
        "id": "BlQOM42Ueo0h"
      }
    },
    {
      "cell_type": "code",
      "source": [
        "# Take list input from the user, split by spaces, and convert each item to an integer\n",
        "lst = list(map(int, input(\"Enter a list: \").split()))\n",
        "\n",
        "# Ask the user to input the first position to swap (starting from 1)\n",
        "pos1 = int(input(\"Enter the first position: \"))\n",
        "\n",
        "# Ask the user to input the second position to swap (starting from 1)\n",
        "pos2 = int(input(\"Enter the second position: \"))\n",
        "\n",
        "# Convert user input positions (starting from 1) to list indices (starting from 0)\n",
        "index1 = pos1 - 1\n",
        "index2 = pos2 - 1\n",
        "\n",
        "# Swap the elements at the two indices\n",
        "lst[index1], lst[index2] = lst[index2], lst[index1]\n",
        "\n",
        "# Print the list after swapping\n",
        "print(\"Swapped list:\", lst)\n"
      ],
      "metadata": {
        "id": "p4FOqCmveoaR",
        "colab": {
          "base_uri": "https://localhost:8080/"
        },
        "outputId": "815283b8-275e-401b-883c-c98cc72e4ad5"
      },
      "execution_count": 9,
      "outputs": [
        {
          "output_type": "stream",
          "name": "stdout",
          "text": [
            "Enter a list: 23 65 19 90\n",
            "Enter the first position: 1\n",
            "Enter the second position: 3\n",
            "Swapped list: [19, 65, 23, 90]\n"
          ]
        }
      ]
    },
    {
      "cell_type": "markdown",
      "source": [
        "# **23- search for the all ways to know the length of the list"
      ],
      "metadata": {
        "id": "d4XbYcqxpr3G"
      }
    },
    {
      "cell_type": "markdown",
      "source": [
        "1. Find the Size of a List Using the len() Function\n"
      ],
      "metadata": {
        "id": "CPV-6Dcu-ixu"
      }
    },
    {
      "cell_type": "code",
      "source": [
        "# Define a list of fruits\n",
        "fruits = [\"apple\", \"banana\", \"orange\"]\n",
        "\n",
        "# Get the length of the list using the len() function\n",
        "length = len(fruits)\n",
        "\n",
        "# Print the length of the list\n",
        "print(\"The length of the list is:\", length)\n"
      ],
      "metadata": {
        "colab": {
          "base_uri": "https://localhost:8080/"
        },
        "id": "Gzv8_hOlpve4",
        "outputId": "b96027d1-d6b4-4853-964a-b389810104c1"
      },
      "execution_count": null,
      "outputs": [
        {
          "output_type": "stream",
          "name": "stdout",
          "text": [
            "The length of the list is: 3\n"
          ]
        }
      ]
    },
    {
      "cell_type": "markdown",
      "source": [
        "2. Find the Size of a List Using a For Loop"
      ],
      "metadata": {
        "id": "rjAmstCp_lfk"
      }
    },
    {
      "cell_type": "code",
      "source": [
        "# Define a list of fruits\n",
        "fruits = [\"apple\", \"banana\", \"orange\"]\n",
        "\n",
        "# Initialize a counter variable to count the elements in the list\n",
        "Counter = 0\n",
        "\n",
        "# Loop through each item in the fruits list\n",
        "for item in fruits:\n",
        "    # Increment the counter for each item in the list\n",
        "    Counter += 1\n",
        "\n",
        "# Print the length of the list\n",
        "print(\"The length of the list is:\", Counter)\n"
      ],
      "metadata": {
        "colab": {
          "base_uri": "https://localhost:8080/"
        },
        "id": "o3OF2uJm_f_g",
        "outputId": "c21f8ea2-aa81-4bac-f833-ee18fdfcd649"
      },
      "execution_count": null,
      "outputs": [
        {
          "output_type": "stream",
          "name": "stdout",
          "text": [
            "The length of the list is: 3\n"
          ]
        }
      ]
    },
    {
      "cell_type": "markdown",
      "source": [
        "3. Find the Size of a List Using a List Comprehension\n"
      ],
      "metadata": {
        "id": "6HTFvVpRAOrf"
      }
    },
    {
      "cell_type": "code",
      "source": [
        "# Define a list of fruits\n",
        "fruits = [\"apple\", \"banana\", \"orange\"]\n",
        "\n",
        "# Use a generator expression with sum() to count the elements in the list\n",
        "length = sum(1 for item in fruits)\n",
        "\n",
        "# Print the length of the list\n",
        "print(\"The length of the list is:\", length)\n"
      ],
      "metadata": {
        "id": "FqHX5zODAQbu",
        "colab": {
          "base_uri": "https://localhost:8080/"
        },
        "outputId": "167ce4c9-c782-45b4-caa5-88537ccb21e2"
      },
      "execution_count": null,
      "outputs": [
        {
          "output_type": "stream",
          "name": "stdout",
          "text": [
            "The length of the list is: 3\n"
          ]
        }
      ]
    },
    {
      "cell_type": "markdown",
      "source": [
        "4. Find the Size of a List Using length_hint()"
      ],
      "metadata": {
        "id": "utveFmqMBDwj"
      }
    },
    {
      "cell_type": "code",
      "source": [
        "from operator import length_hint\n",
        "\n",
        "# Define a list of fruits\n",
        "fruits = [\"apple\", \"banana\", \"orange\"]\n",
        "\n",
        "# Use the length_hint() function to estimate the length of the list\n",
        "hint = length_hint(fruits)\n",
        "\n",
        "# Print the estimated length of the list\n",
        "print(\"len:\", hint)\n"
      ],
      "metadata": {
        "id": "tFMks_NzBFjb",
        "colab": {
          "base_uri": "https://localhost:8080/"
        },
        "outputId": "8889c126-b1b8-4b75-9e35-b49ba81b71fa"
      },
      "execution_count": null,
      "outputs": [
        {
          "output_type": "stream",
          "name": "stdout",
          "text": [
            "len: 3\n"
          ]
        }
      ]
    },
    {
      "cell_type": "markdown",
      "source": [
        "5. Find the Size of a List Using Counter()"
      ],
      "metadata": {
        "id": "iUzmkPESoM3b"
      }
    },
    {
      "cell_type": "code",
      "source": [
        "from collections import Counter\n",
        "\n",
        "# Define a list of fruits\n",
        "fruits = [\"apple\", \"banana\", \"orange\"]\n",
        "\n",
        "# Create a Counter object from the fruits list, which counts how many times each item appears\n",
        "length = sum(Counter(fruits).values())\n",
        "\n",
        "# Sum all the counts to get the total number of items in the list\n",
        "print(length)\n"
      ],
      "metadata": {
        "id": "jNUlxcNUoaqL",
        "colab": {
          "base_uri": "https://localhost:8080/"
        },
        "outputId": "dcc506d2-429f-4a9a-fefe-d7dab864219d"
      },
      "execution_count": null,
      "outputs": [
        {
          "output_type": "stream",
          "name": "stdout",
          "text": [
            "3\n"
          ]
        }
      ]
    },
    {
      "cell_type": "code",
      "source": [
        "# Define a list of fruits\n",
        "fruits = [\"apple\", \"banana\", \"orange\"]\n",
        "\n",
        "# Add a period (\".\") to the list to mark the end of the list\n",
        "fruits += \".\"\n",
        "\n",
        "# Initialize an index variable to traverse the list\n",
        "i = 0\n",
        "\n",
        "# Loop through the list until we encounter the period (\".\")\n",
        "while fruits[i] != \".\":\n",
        "    i += 1\n",
        "\n",
        "# Print the length of the list (excluding the period)\n",
        "print(\"len:\", i)\n"
      ],
      "metadata": {
        "colab": {
          "base_uri": "https://localhost:8080/"
        },
        "id": "Ct4XaonWxEMx",
        "outputId": "716e3411-b95a-4a47-a6af-7071282d67b6"
      },
      "execution_count": null,
      "outputs": [
        {
          "output_type": "stream",
          "name": "stdout",
          "text": [
            "len: 3\n"
          ]
        }
      ]
    },
    {
      "cell_type": "code",
      "source": [
        "# Define a list of fruits\n",
        "fruits = [\"apple\", \"banana\", \"orange\"]\n",
        "\n",
        "# Define a recursive function to count the elements in the list\n",
        "def count_elements_recursion(lst):\n",
        "    # Base case: if the list is empty, return 0\n",
        "    if not lst:\n",
        "        return 0\n",
        "    # Recursive case: return 1 + the result of counting the rest of the list\n",
        "    return 1 + count_elements_recursion(lst[1:])\n",
        "\n",
        "# Print the length of the list using the recursive function\n",
        "print(\"len:\", count_elements_recursion(fruits))\n"
      ],
      "metadata": {
        "colab": {
          "base_uri": "https://localhost:8080/"
        },
        "id": "_YgPQu8TyBij",
        "outputId": "6dd48d67-645e-4f56-c7da-efc3532a447d"
      },
      "execution_count": null,
      "outputs": [
        {
          "output_type": "stream",
          "name": "stdout",
          "text": [
            "len: 3\n"
          ]
        }
      ]
    },
    {
      "cell_type": "markdown",
      "source": [
        "# **24-write a Python code to find the Maximum number of list of numbers."
      ],
      "metadata": {
        "id": "YldoxeaZpzfN"
      }
    },
    {
      "cell_type": "code",
      "source": [
        "# Define a list of numbers\n",
        "numbers = [63, 90, 13, 57, 1]\n",
        "\n",
        "# Find the maximum number in the list using the max() function\n",
        "Maximum = max(numbers)\n",
        "\n",
        "# Print the maximum number\n",
        "print(\"Maximum number: \", Maximum)\n"
      ],
      "metadata": {
        "colab": {
          "base_uri": "https://localhost:8080/"
        },
        "id": "4xSicrhDp2Nd",
        "outputId": "ac92481a-1b45-499a-b60f-c01924046523"
      },
      "execution_count": null,
      "outputs": [
        {
          "output_type": "stream",
          "name": "stdout",
          "text": [
            "Maximum number:  90\n"
          ]
        }
      ]
    },
    {
      "cell_type": "code",
      "source": [
        "# Define a list of numbers\n",
        "numbers = [63, 90, 13, 57, 1]\n",
        "\n",
        "# Sort the list in ascending order using the sort() method\n",
        "numbers.sort()\n",
        "\n",
        "# The largest number is now the last element in the sorted list\n",
        "Maximum = numbers[-1]\n",
        "\n",
        "# Print the maximum number\n",
        "print(\"Maximum number: \", Maximum)\n"
      ],
      "metadata": {
        "colab": {
          "base_uri": "https://localhost:8080/"
        },
        "id": "MxE1MKtAqEes",
        "outputId": "308ac682-4b58-492e-ffb9-95ebde966445"
      },
      "execution_count": null,
      "outputs": [
        {
          "output_type": "stream",
          "name": "stdout",
          "text": [
            "Maximum number:  90\n"
          ]
        }
      ]
    },
    {
      "cell_type": "markdown",
      "source": [
        "# **25-write a Python code to find the Minimum number of list of numbers."
      ],
      "metadata": {
        "id": "qnYVyqdQsbwG"
      }
    },
    {
      "cell_type": "code",
      "source": [
        "# Define a list of numbers\n",
        "numbers = [63, 90, 13, 57, 1]\n",
        "\n",
        "# Find the minimum number in the list using the min() function\n",
        "Minimum = min(numbers)\n",
        "\n",
        "# Print the minimum number\n",
        "print(\"Minimum number: \", Minimum)\n"
      ],
      "metadata": {
        "colab": {
          "base_uri": "https://localhost:8080/"
        },
        "id": "UxFWAcWNrkF8",
        "outputId": "54291857-7d70-4c8a-8cf3-ae78d9a10d7b"
      },
      "execution_count": null,
      "outputs": [
        {
          "output_type": "stream",
          "name": "stdout",
          "text": [
            "Minimum number:  1\n"
          ]
        }
      ]
    },
    {
      "cell_type": "code",
      "source": [
        "# Define a list of numbers\n",
        "numbers = [63, 90, 13, 57, 1]\n",
        "\n",
        "# Sort the list in ascending order using the sort() method\n",
        "numbers.sort()\n",
        "\n",
        "# The smallest number is now the first element in the sorted list\n",
        "Minimum = numbers[0]\n",
        "\n",
        "# Print the minimum number\n",
        "print(\"Minimum number:\", Minimum)\n"
      ],
      "metadata": {
        "id": "wGMiL8k0sshd"
      },
      "execution_count": null,
      "outputs": []
    },
    {
      "cell_type": "markdown",
      "source": [
        "# **26-search for if an elem is existing in list"
      ],
      "metadata": {
        "id": "ERHv37UkteyN"
      }
    },
    {
      "cell_type": "code",
      "source": [
        "def search_for_elem(mylist, elem):\n",
        "  # Split the input string into a list of elements\n",
        "  mylist = mylist.split()\n",
        "\n",
        "  # Check if the element exists in the list\n",
        "  if elem in mylist:\n",
        "     # Return a message if the element is found\n",
        "    return f\"{elem} exists in the list.\"\n",
        "  else:\n",
        "    # Return a message if the element is not found\n",
        "    return f\"{elem} does not exist in the list.\"\n",
        "\n",
        "# Get user input for the list and the element to search for\n",
        "my_list = input(\"Enter a list: \")\n",
        "elem = input(\"Enter the element you want to search: \")\n",
        "\n",
        "# Call the function to search for the element and store the result\n",
        "result = search_for_elem(my_list, elem)\n",
        "\n",
        "# Print the result of the search\n",
        "print(result)\n"
      ],
      "metadata": {
        "colab": {
          "base_uri": "https://localhost:8080/"
        },
        "id": "bceqq5Gfthil",
        "outputId": "7e4de49c-a0ab-4788-f30f-69b74ec85fcd"
      },
      "execution_count": null,
      "outputs": [
        {
          "output_type": "stream",
          "name": "stdout",
          "text": [
            "Enter a list: sara aya hend \n",
            "Enter the element you want to search hend\n",
            "hend exists in the list.\n"
          ]
        }
      ]
    },
    {
      "cell_type": "code",
      "source": [
        "# Define a list of names\n",
        "my_list = [\"sara\", \"aya\", \"hend\"]\n",
        "\n",
        "# Check if the string \"hend\" is in the list\n",
        "print(\"hend\" in my_list)  # This will return True if \"hend\" is in the list, otherwise False\n"
      ],
      "metadata": {
        "colab": {
          "base_uri": "https://localhost:8080/"
        },
        "id": "DJk2bveSxRls",
        "outputId": "961df1e7-2cc9-4531-b6b7-23a35aa49afc"
      },
      "execution_count": null,
      "outputs": [
        {
          "output_type": "stream",
          "name": "stdout",
          "text": [
            "True\n"
          ]
        }
      ]
    },
    {
      "cell_type": "markdown",
      "source": [
        "# **27- clear python list using different ways"
      ],
      "metadata": {
        "id": "LuxOoPm9_DwV"
      }
    },
    {
      "cell_type": "code",
      "source": [
        "# Define a list of names\n",
        "my_list = [\"sara\", \"aya\", \"hend\"]\n",
        "\n",
        "# Clear all elements from the list using the clear() method\n",
        "my_list.clear()\n",
        "\n",
        "# Print the list after clearing it\n",
        "print(my_list)  # This will print an empty list: []"
      ],
      "metadata": {
        "id": "qZaeOQcMwx3G",
        "colab": {
          "base_uri": "https://localhost:8080/"
        },
        "outputId": "973ded76-fd0b-46dd-c603-a48ff0e30ecb"
      },
      "execution_count": null,
      "outputs": [
        {
          "output_type": "stream",
          "name": "stdout",
          "text": [
            "[]\n"
          ]
        }
      ]
    },
    {
      "cell_type": "markdown",
      "source": [
        "# **28-remove duplicated elements from a list"
      ],
      "metadata": {
        "id": "4DS79nsn_gxI"
      }
    },
    {
      "cell_type": "code",
      "source": [
        "# Define a list with some repeated elements\n",
        "lst = [\"apple\", \"banana\", \"apple\", \"orange\", \"banana\"]\n",
        "\n",
        "# Convert the list to a set to remove duplicates, then convert it back to a list\n",
        "unique_lst = list(set(lst))\n",
        "\n",
        "# Print the list with unique elements\n",
        "print(unique_lst)\n"
      ],
      "metadata": {
        "colab": {
          "base_uri": "https://localhost:8080/"
        },
        "id": "UAPsxupvA-b1",
        "outputId": "e43d9f8a-bc02-4925-80dd-fc96a455c5eb"
      },
      "execution_count": null,
      "outputs": [
        {
          "output_type": "stream",
          "name": "stdout",
          "text": [
            "['apple', 'orange', 'banana']\n"
          ]
        }
      ]
    },
    {
      "cell_type": "code",
      "source": [
        "# Define a list with some repeated elements\n",
        "lst = [\"apple\", \"banana\", \"apple\", \"orange\", \"banana\"]\n",
        "\n",
        "# Use dict.fromkeys() to remove duplicates while preserving the order\n",
        "unique_lst = list(dict.fromkeys(lst))\n",
        "\n",
        "# Print the list with unique elements, preserving the original order\n",
        "print(unique_lst)\n"
      ],
      "metadata": {
        "colab": {
          "base_uri": "https://localhost:8080/"
        },
        "id": "7iKhPmPXBWmi",
        "outputId": "a164c3fb-c55a-4dc1-9f6d-dd4b52c9bf9d"
      },
      "execution_count": null,
      "outputs": [
        {
          "output_type": "stream",
          "name": "stdout",
          "text": [
            "['apple', 'banana', 'orange']\n"
          ]
        }
      ]
    },
    {
      "cell_type": "markdown",
      "source": [
        "# **29-Given list values and keys list, convert these values to key value pairs in form of list of dictionaries. (Input : test_list = [“Gfg”, 3, “is”, 8], key_list = [“name”, “id”] Output : [{‘name’: ‘Gfg’, ‘id’: 3}, {‘name’: ‘is’, ‘id’: 8}])"
      ],
      "metadata": {
        "id": "mm2-rQCVBs-4"
      }
    },
    {
      "cell_type": "code",
      "source": [
        "# Define the test list and key list\n",
        "test_list = [\"Gfg\", 3, \"is\", 8, \"h\", 6, \"r\", 9]\n",
        "key_list = [\"name\", \"id\"]\n",
        "\n",
        "# Initialize the result list to store the dictionaries\n",
        "result = []\n",
        "\n",
        "# Iterate over the test_list in steps of the length of key_list\n",
        "for i in range(0, len(test_list), len(key_list)):\n",
        "    # Create a dictionary for the current chunk of test_list\n",
        "    current_dict = {}\n",
        "\n",
        "    # Iterate over key_list and assign corresponding values from test_list\n",
        "    for j in range(len(key_list)):\n",
        "        # Ensure we don't go out of bounds in test_list\n",
        "        if i + j < len(test_list):\n",
        "            current_dict[key_list[j]] = test_list[i + j]\n",
        "\n",
        "    # Append the current dictionary to the result list\n",
        "    result.append(current_dict)\n",
        "\n",
        "# Print the final list of dictionaries\n",
        "print(result)\n"
      ],
      "metadata": {
        "colab": {
          "base_uri": "https://localhost:8080/"
        },
        "id": "nHClme29jy3p",
        "outputId": "36a490da-3bfb-4957-c55d-609ed3c6708e"
      },
      "execution_count": null,
      "outputs": [
        {
          "output_type": "stream",
          "name": "stdout",
          "text": [
            "[{'name': 'Gfg', 'id': 3}, {'name': 'is', 'id': 8}, {'name': 'h', 'id': 6}, {'name': 'r', 'id': 9}]\n"
          ]
        }
      ]
    },
    {
      "cell_type": "markdown",
      "source": [
        "# **30-write a python program to count unique values inside a list using different ways"
      ],
      "metadata": {
        "id": "v8G_nK_oY1X9"
      }
    },
    {
      "cell_type": "markdown",
      "source": [
        "Method 1: Using set()"
      ],
      "metadata": {
        "id": "ypDSaIPjNH42"
      }
    },
    {
      "cell_type": "code",
      "source": [
        "# Function to count unique values in a list\n",
        "def count_unique_set(list1):\n",
        "    # Convert the list to a set and return its length\n",
        "    return len(set(list1))\n",
        "\n",
        "# Define a list of numbers, with duplicates\n",
        "numbers = [1, 2, 2, 3, 4, 4, 4, 5]\n",
        "\n",
        "# Call the function to count unique values\n",
        "unique_values = count_unique_set(numbers)\n",
        "\n",
        "# Print the result which is the number of unique values in the list\n",
        "print(unique_values)\n"
      ],
      "metadata": {
        "id": "S8Si6wHwMRFB",
        "colab": {
          "base_uri": "https://localhost:8080/"
        },
        "outputId": "c2874532-b501-4886-fef4-064763d41708"
      },
      "execution_count": null,
      "outputs": [
        {
          "output_type": "stream",
          "name": "stdout",
          "text": [
            "5\n"
          ]
        }
      ]
    },
    {
      "cell_type": "markdown",
      "source": [
        "Method 2: Using collections.Counter"
      ],
      "metadata": {
        "id": "z67Hpm9SNMTf"
      }
    },
    {
      "cell_type": "code",
      "source": [
        "from collections import Counter\n",
        "\n",
        "# Function to count the number of unique elements in a list\n",
        "def count_unique_set(lst):\n",
        "    # Convert the list to a Counter object and get the length of the set of keys (unique elements)\n",
        "    return len(set(lst))\n",
        "\n",
        "# List with duplicate values\n",
        "numbers = [1, 2, 2, 3, 4, 4, 4, 5]\n",
        "\n",
        "# Call the function to count unique values\n",
        "unique_values = count_unique_set(numbers)\n",
        "\n",
        "# Print the number of unique values\n",
        "print(unique_values)\n"
      ],
      "metadata": {
        "colab": {
          "base_uri": "https://localhost:8080/"
        },
        "id": "2JM7sk7ONDS2",
        "outputId": "64a3e3e6-c558-4e60-c129-4269781b9db1"
      },
      "execution_count": null,
      "outputs": [
        {
          "output_type": "stream",
          "name": "stdout",
          "text": [
            "5\n"
          ]
        }
      ]
    },
    {
      "cell_type": "markdown",
      "source": [
        "Method 3: Using Dictionary"
      ],
      "metadata": {
        "id": "gkLNrIndNwlT"
      }
    },
    {
      "cell_type": "code",
      "source": [
        "# Function to count the number of unique elements in a list\n",
        "def count_unique_set(lst):\n",
        "    # Initialize an empty dictionary to store unique elements\n",
        "    unique_dict = {}\n",
        "\n",
        "    # Iterate over the list\n",
        "    for item in lst:\n",
        "        # Add each element to the dictionary with a value of True\n",
        "        # The key is the element itself, and the value is True (only unique keys are stored)\n",
        "        unique_dict[item] = True\n",
        "\n",
        "    # The length of the dictionary will give the count of unique elements\n",
        "    return len(unique_dict)\n",
        "\n",
        "# List with duplicate values\n",
        "numbers = [1, 2, 2, 3, 4, 4, 4, 5]\n",
        "\n",
        "# Call the function to count unique values\n",
        "unique_values = count_unique_set(numbers)\n",
        "\n",
        "# Print the number of unique values\n",
        "print(unique_values)\n"
      ],
      "metadata": {
        "colab": {
          "base_uri": "https://localhost:8080/"
        },
        "id": "ZK1fGmsONwIs",
        "outputId": "83390960-d3a3-4dee-a8da-3cdc79591740"
      },
      "execution_count": null,
      "outputs": [
        {
          "output_type": "stream",
          "name": "stdout",
          "text": [
            "5\n"
          ]
        }
      ]
    },
    {
      "cell_type": "markdown",
      "source": [
        "Method 4: Using List and Membership Check"
      ],
      "metadata": {
        "id": "avbDCTXHPFsD"
      }
    },
    {
      "cell_type": "code",
      "source": [
        "# Function to count the number of unique elements in a list\n",
        "def count_unique_set(lst):\n",
        "    # Initialize an empty list to store unique elements\n",
        "    unique_list = []\n",
        "\n",
        "    # Iterate over each element in the input list\n",
        "    for item in lst:\n",
        "        # Check if the item is not already in the unique_list\n",
        "        if item not in unique_list:\n",
        "            # If not, add the item to the unique_list\n",
        "            unique_list.append(item)\n",
        "\n",
        "    # Return the count of unique elements in the unique_list\n",
        "    return len(unique_list)\n",
        "\n",
        "# List with duplicate values\n",
        "numbers = [1, 2, 2, 3, 4, 4, 4, 5]\n",
        "\n",
        "# Call the function to count unique values\n",
        "unique_values = count_unique_set(numbers)\n",
        "\n",
        "# Print the number of unique values\n",
        "print(unique_values)\n"
      ],
      "metadata": {
        "colab": {
          "base_uri": "https://localhost:8080/"
        },
        "id": "gFTGrvJ9PKNf",
        "outputId": "95c757a8-aec2-4274-9aec-5d42aba99aef"
      },
      "execution_count": null,
      "outputs": [
        {
          "output_type": "stream",
          "name": "stdout",
          "text": [
            "5\n"
          ]
        }
      ]
    },
    {
      "cell_type": "markdown",
      "source": [
        "Method 5: Using numpy.unique()"
      ],
      "metadata": {
        "id": "zW6Rlj2dQJJj"
      }
    },
    {
      "cell_type": "code",
      "source": [
        "# Importing the numpy library, which is commonly used for numerical operations\n",
        "import numpy as np\n",
        "\n",
        "# Function to count unique elements in a list\n",
        "def count_unique_set(lst):\n",
        "    # np.unique() returns the sorted unique elements of an array. We return the length of the unique elements\n",
        "    return len(np.unique(lst))\n",
        "\n",
        "# Example list with duplicate values\n",
        "numbers = [1, 2, 2, 3, 4, 4, 4, 5]\n",
        "\n",
        "# Calling the function to count the number of unique values in the list\n",
        "unique_values = count_unique_set(numbers)\n",
        "\n",
        "# Printing the number of unique values\n",
        "print(unique_values)\n"
      ],
      "metadata": {
        "colab": {
          "base_uri": "https://localhost:8080/"
        },
        "id": "KVGEXOT_QOi6",
        "outputId": "c17402a8-0de9-438a-acd1-eaab5908c6d2"
      },
      "execution_count": null,
      "outputs": [
        {
          "output_type": "stream",
          "name": "stdout",
          "text": [
            "5\n"
          ]
        }
      ]
    },
    {
      "cell_type": "markdown",
      "source": [
        "Method 6: Using pandas.unique()"
      ],
      "metadata": {
        "id": "_NMoYthaQsQ6"
      }
    },
    {
      "cell_type": "code",
      "source": [
        "# Importing the pandas library, which provides powerful data structures like Series and DataFrame\n",
        "import pandas as pd\n",
        "\n",
        "# Function to count unique elements in a list\n",
        "def count_unique_set(lst):\n",
        "    # pd.unique() returns an array of unique values from the list. We return the length of this array\n",
        "    return len(pd.unique(lst))\n",
        "\n",
        "# Example list with duplicate values\n",
        "numbers = [1, 2, 2, 3, 4, 4, 4, 5]\n",
        "\n",
        "# Calling the function to count the number of unique values in the list\n",
        "unique_values = count_unique_set(numbers)\n",
        "\n",
        "# Printing the number of unique values\n",
        "print(unique_values)\n"
      ],
      "metadata": {
        "colab": {
          "base_uri": "https://localhost:8080/"
        },
        "id": "hIaLr8y_RHaa",
        "outputId": "58595e9b-3dce-4c9d-a354-65af1c071e20"
      },
      "execution_count": null,
      "outputs": [
        {
          "output_type": "stream",
          "name": "stdout",
          "text": [
            "5\n"
          ]
        },
        {
          "output_type": "stream",
          "name": "stderr",
          "text": [
            "<ipython-input-56-caf8696c97b1>:4: FutureWarning: unique with argument that is not not a Series, Index, ExtensionArray, or np.ndarray is deprecated and will raise in a future version.\n",
            "  return len(pd.unique(lst))\n"
          ]
        }
      ]
    },
    {
      "cell_type": "markdown",
      "source": [
        "# **31-write a python program Extract all elements with Frequency greater than K (Input : test_list = [4, 6, 4, 3, 3, 4, 3, 4, 3, 8], K = 3 Output : [4, 3] )"
      ],
      "metadata": {
        "id": "mmFgTgL3DNkv"
      }
    },
    {
      "cell_type": "code",
      "source": [
        "# Function to get elements from the list that appear more than 'k' times\n",
        "def elements_with_freq_gt_k_listcomp(lst, k):\n",
        "    # Use set comprehension to filter out elements that appear more than 'k' times\n",
        "    # set ensures that elements are unique (no duplicates)\n",
        "    return list({x for x in lst if lst.count(x) > k})\n",
        "\n",
        "# Sample list for testing\n",
        "test_list = [4, 6, 4, 3, 3, 4, 3, 4, 3, 8]\n",
        "\n",
        "# Set the threshold value k\n",
        "K = 3\n",
        "\n",
        "# Call the function and print the result\n",
        "print(elements_with_freq_gt_k_listcomp(test_list, K))  # Output: [4, 3]\n"
      ],
      "metadata": {
        "id": "eOTXFJHhDgBa",
        "colab": {
          "base_uri": "https://localhost:8080/"
        },
        "outputId": "39ef379f-e9cb-4c9f-be6c-72cee0a220b6"
      },
      "execution_count": null,
      "outputs": [
        {
          "output_type": "stream",
          "name": "stdout",
          "text": [
            "[3, 4]\n"
          ]
        }
      ]
    },
    {
      "cell_type": "markdown",
      "source": [
        "# **32-write a python program to find the Strongest Neighbour (Input: 1 2 2 3 4 5 Output: 2 2 3 4 5)"
      ],
      "metadata": {
        "id": "x_hp8aAaVMb_"
      }
    },
    {
      "cell_type": "code",
      "source": [
        "# Function to find the strongest neighbour (the maximum between each consecutive pair of elements)\n",
        "def strongest_neighbour(lst):\n",
        "    # Initialize an empty list to store the result\n",
        "    result = []\n",
        "\n",
        "    # Loop through the list to compare consecutive elements\n",
        "    for i in range(len(lst) - 1):\n",
        "        # Append the maximum of the current element and the next one\n",
        "        result.append(max(lst[i], lst[i + 1]))\n",
        "\n",
        "    # Append the last element since there's no next element to compare it with\n",
        "    result.append(lst[-1])\n",
        "\n",
        "    # Return the resulting list\n",
        "    return result\n",
        "\n",
        "# Sample input list\n",
        "input_list = [1, 2, 2, 3, 4, 5]\n",
        "\n",
        "# Print the result by calling the function with the input list\n",
        "print(strongest_neighbour(input_list))\n"
      ],
      "metadata": {
        "colab": {
          "base_uri": "https://localhost:8080/"
        },
        "id": "G2bojEtAXYsl",
        "outputId": "1a96c16b-a308-4a8a-9b0b-aaf97142a74c"
      },
      "execution_count": null,
      "outputs": [
        {
          "output_type": "stream",
          "name": "stdout",
          "text": [
            "[2, 2, 3, 4, 5, 5]\n"
          ]
        }
      ]
    },
    {
      "cell_type": "markdown",
      "source": [
        "# **33-write a Python Program to print all Possible Combinations from the three Digits (Input: [1, 2, 3] Output: 1 2 3 ## 1 3 2 ## 2 1 3 ## 2 3 1 ## 3 1 2 ## 3 2 1)"
      ],
      "metadata": {
        "id": "EFjt47xgaYah"
      }
    },
    {
      "cell_type": "code",
      "source": [
        "# Import the itertools module to use its permutations function\n",
        "import itertools\n",
        "\n",
        "# Define a list of numbers\n",
        "nums = [1, 2, 3]\n",
        "\n",
        "# Generate all possible permutations of the list 'nums'\n",
        "perms = itertools.permutations(nums)\n",
        "\n",
        "# Loop through each permutation generated by itertools\n",
        "for p in perms:\n",
        "    # Print the elements of the permutation separated by a space, followed by \" ##\"\n",
        "    print(*p, end=\"  ## \")"
      ],
      "metadata": {
        "colab": {
          "base_uri": "https://localhost:8080/"
        },
        "id": "4djN_-XZau_D",
        "outputId": "36de0d04-62c5-4ce5-c6f6-932c187e98d7"
      },
      "execution_count": null,
      "outputs": [
        {
          "output_type": "stream",
          "name": "stdout",
          "text": [
            "1 2 3  ## 1 3 2  ## 2 1 3  ## 2 3 1  ## 3 1 2  ## 3 2 1  ## "
          ]
        }
      ]
    },
    {
      "cell_type": "markdown",
      "source": [
        "# **34-write a Python program to find all the Combinations in the list with the given condition (Input: test_list = [1,2,3] Output: [1], [1, 2], [1, 2, 3], [1, 3] [2], [2, 3], [3])"
      ],
      "metadata": {
        "id": "VVN09PO8dilx"
      }
    },
    {
      "cell_type": "code",
      "source": [
        "# Define the input list\n",
        "test_list = [1, 2, 3]\n",
        "result = []  # Initialize an empty list to store the sublists\n",
        "\n",
        "# Loop through each element in the list\n",
        "for i in range(len(test_list)):\n",
        "    # Generate sublists starting from index 'i' to 'j'\n",
        "    for j in range(i + 1, len(test_list) + 1):\n",
        "        result.append(test_list[i:j])  # Append the sublist to 'result'\n",
        "\n",
        "# Print each sublist (substring) generated\n",
        "for comb in result:\n",
        "    print(comb)\n"
      ],
      "metadata": {
        "colab": {
          "base_uri": "https://localhost:8080/"
        },
        "id": "wIMBX5P6doKe",
        "outputId": "1d97ef7b-b6e5-4722-e555-633490217750"
      },
      "execution_count": null,
      "outputs": [
        {
          "output_type": "stream",
          "name": "stdout",
          "text": [
            "[1]\n",
            "[1, 2]\n",
            "[1, 2, 3]\n",
            "[2]\n",
            "[2, 3]\n",
            "[3]\n"
          ]
        }
      ]
    },
    {
      "cell_type": "markdown",
      "source": [
        "# **35-write a Python program to get all unique combinations of two Lists (List_1 = [\"a\",\"b\"] List_2 = [1,2] Unique_combination = [[('a',1),('b',2)],[('a',2),('b',1)]] )"
      ],
      "metadata": {
        "id": "dUuxtqCXjNB8"
      }
    },
    {
      "cell_type": "code",
      "source": [
        "# Import the permutations function from itertools\n",
        "from itertools import permutations\n",
        "\n",
        "# Define two lists\n",
        "List_1 = [\"a\", \"b\"]\n",
        "List_2 = [1, 2]\n",
        "\n",
        "# Generate all permutations of List_2 (the second list)\n",
        "perm = permutations(List_2)\n",
        "\n",
        "# Initialize an empty list to store the unique combinations\n",
        "unique_combinations = []\n",
        "\n",
        "# Iterate through each permutation of List_2\n",
        "for p in perm:\n",
        "    # Create a combination of elements from List_1 and the current permutation of List_2\n",
        "    combination = list(zip(List_1, p))\n",
        "    # Append the generated combination to the unique_combinations list\n",
        "    unique_combinations.append(combination)\n",
        "\n",
        "# Print all the unique combinations\n",
        "print(unique_combinations)\n"
      ],
      "metadata": {
        "colab": {
          "base_uri": "https://localhost:8080/"
        },
        "id": "-Ok6_MNHjTB1",
        "outputId": "8196f2ce-cd3a-4bb6-f482-bfc8116e658a"
      },
      "execution_count": null,
      "outputs": [
        {
          "output_type": "stream",
          "name": "stdout",
          "text": [
            "[[('a', 1), ('b', 2)], [('a', 2), ('b', 1)]]\n"
          ]
        }
      ]
    },
    {
      "cell_type": "markdown",
      "source": [
        "# **36-Remove all the occurrences of an element from a list in Python (Input : 1 1 2 3 4 5 1 2 1\n",
        "\n",
        "**Output : 2 3 4 5 2)"
      ],
      "metadata": {
        "id": "mFIsT42moAxQ"
      }
    },
    {
      "cell_type": "code",
      "source": [
        "# Define the list and the element to remove\n",
        "lst = [1, 1, 2, 3, 4, 5, 1, 2, 1]\n",
        "elem_to_remove = 1\n",
        "\n",
        "# Use a list comprehension to create a new list that excludes the element to remove\n",
        "result = [x for x in lst if x != elem_to_remove]\n",
        "\n",
        "# Print the resulting list\n",
        "print(result)\n"
      ],
      "metadata": {
        "colab": {
          "base_uri": "https://localhost:8080/"
        },
        "id": "7yrCk6zaoJ78",
        "outputId": "e473508b-af70-4b8f-c189-d65f5a2655ff"
      },
      "execution_count": null,
      "outputs": [
        {
          "output_type": "stream",
          "name": "stdout",
          "text": [
            "[2, 3, 4, 5, 2]\n"
          ]
        }
      ]
    },
    {
      "cell_type": "markdown",
      "source": [
        "# **37-write a python program to Replace index elements with elements in Other List (The original list 1 is : [‘Gfg’, ‘is’, ‘best’] The original list 2 is : [0, 1, 2, 1, 0, 0, 0, 2, 1, 1, 2, 0] The lists after index elements replacements is : [‘Gfg’, ‘is’, ‘best’, ‘is’, ‘Gfg’, ‘Gfg’, ‘Gfg’, ‘best’, ‘is’, ‘is’, ‘best’, ‘Gfg’])"
      ],
      "metadata": {
        "id": "ks5etia6p2d0"
      }
    },
    {
      "cell_type": "code",
      "source": [
        "# Define two lists: lst_1 contains strings, and lst_2 contains indices\n",
        "lst_1 = [\"Gfg\", \"is\", \"best\"]\n",
        "lst_2 = [0, 1, 2, 1, 0, 0, 0, 2, 1, 1, 2, 0]\n",
        "\n",
        "# Initialize an empty list to store the results\n",
        "result = []\n",
        "\n",
        "# Iterate over each index in lst_2\n",
        "for i in lst_2:\n",
        "    # Append the corresponding element from lst_1 to the result list\n",
        "    result.append(lst_1[i])\n",
        "\n",
        "# Print the resulting list after the loop\n",
        "print(result)\n"
      ],
      "metadata": {
        "colab": {
          "base_uri": "https://localhost:8080/"
        },
        "id": "1UQZHJVhqUuP",
        "outputId": "43426967-ae04-40b0-fb13-22c69c68c1da"
      },
      "execution_count": null,
      "outputs": [
        {
          "output_type": "stream",
          "name": "stdout",
          "text": [
            "['Gfg', 'is', 'best', 'is', 'Gfg', 'Gfg', 'Gfg', 'best', 'is', 'is', 'best', 'Gfg']\n"
          ]
        }
      ]
    },
    {
      "cell_type": "markdown",
      "source": [
        "# **38- write python program to Retain records with N occurrences of K(Input : test_list = [(4, 5, 5, 4), (5, 4, 3)], K = 5, N = 2 Output : [(4, 5, 5, 4)] Input : test_list = [(4, 5, 5, 4), (5, 4, 3)], K = 5, N = 3 Output : [] )"
      ],
      "metadata": {
        "id": "FXuCd241t99B"
      }
    },
    {
      "cell_type": "code",
      "source": [
        "# Sample input list of tuples\n",
        "test_list = [(4, 5, 5, 4), (5, 4, 3)]\n",
        "\n",
        "# The number we want to count in each tuple\n",
        "K = 5\n",
        "\n",
        "# The exact number of times K should appear in a tuple\n",
        "N = 2\n",
        "\n",
        "# Create an empty list to store the result\n",
        "result = []\n",
        "\n",
        "\n",
        "# Loop through each tuple in the list\n",
        "for tup in test_list :\n",
        "  # Count how many times K appears in the tuple\n",
        "  count_k = tup.count(K)\n",
        "\n",
        "  # If K appears exactly N times, keep this tuple\n",
        "  if count_k == N :\n",
        "    result.append(tup)\n",
        "\n",
        "# Print the final filtered list\n",
        "print(\"Filtered tuples:\", result)\n"
      ],
      "metadata": {
        "id": "RCIUkkS0uFb_",
        "colab": {
          "base_uri": "https://localhost:8080/"
        },
        "outputId": "4c0dea74-4851-4cb2-80d8-8c06625ad5fc"
      },
      "execution_count": 13,
      "outputs": [
        {
          "output_type": "stream",
          "name": "stdout",
          "text": [
            "Filtered tuples: [(4, 5, 5, 4)]\n"
          ]
        }
      ]
    },
    {
      "cell_type": "markdown",
      "source": [
        "# **39-write a Python Program to Sort the list according to the column using lambda array = [[1, 3, 3], [2, 1, 2], [3, 2, 1]] Output : Sorted array specific to column 0, [[1, 3, 3], [2, 1, 2], [3, 2, 1]] Sorted array specific to column 1, [[2, 1, 2], [3, 2, 1], [1, 3, 3]] Sorted array specific to column 2, [[3, 2, 1], [2, 1, 2], [1, 3, 3]]"
      ],
      "metadata": {
        "id": "-slgGBNy2tDO"
      }
    },
    {
      "cell_type": "code",
      "source": [
        "# Define a 2D array (list of lists)\n",
        "array = [[1, 3, 3], [2, 1, 2], [3, 2, 1]]\n",
        "\n",
        "# Sort the array based on the first column (index 0)\n",
        "sorted_column_0 = sorted(array, key=lambda x: x[0])\n",
        "# Print the result for sorting by column 0\n",
        "print(\"Sorted array specific to column 0: \", sorted_column_0)\n",
        "\n",
        "# Sort the array based on the second column (index 1)\n",
        "sorted_column_1 = sorted(array, key=lambda x: x[1])\n",
        "# Print the result for sorting by column 1\n",
        "print(\"Sorted array specific to column 1: \", sorted_column_1)\n",
        "\n",
        "# Sort the array based on the third column (index 2)\n",
        "sorted_column_2 = sorted(array, key=lambda x: x[2])\n",
        "# Print the result for sorting by column 2\n",
        "print(\"Sorted array specific to column 2: \", sorted_column_2)\n"
      ],
      "metadata": {
        "colab": {
          "base_uri": "https://localhost:8080/"
        },
        "id": "Z-4fTBlj25bS",
        "outputId": "aed9d545-fade-437c-ed60-4acfc6f29904"
      },
      "execution_count": null,
      "outputs": [
        {
          "output_type": "stream",
          "name": "stdout",
          "text": [
            "Sorted array specific to column 0:  [[1, 3, 3], [2, 1, 2], [3, 2, 1]]\n",
            "Sorted array specific to column 1:  [[2, 1, 2], [3, 2, 1], [1, 3, 3]]\n",
            "Sorted array specific to column 2:  [[3, 2, 1], [2, 1, 2], [1, 3, 3]]\n"
          ]
        }
      ]
    },
    {
      "cell_type": "markdown",
      "source": [
        "# **40- write a program to Sort Python Dictionaries by Key or Value\n",
        "Input:\n",
        "{'ravi': 10, 'rajnish': 9, 'sanjeev': 15, 'yash': 2, 'suraj': 32}\n",
        "\n",
        "Output:\n",
        "{'rajnish': 9, 'ravi': 10, 'sanjeev': 15, 'suraj': 32, 'yash': 2}"
      ],
      "metadata": {
        "id": "LpL9mKq_5KnW"
      }
    },
    {
      "cell_type": "code",
      "source": [
        "# Define a dictionary with names as keys and their corresponding values\n",
        "my_dict = {'ravi': 10, 'rajnish': 9, 'sanjeev': 15, 'yash': 2, 'suraj': 32}\n",
        "\n",
        "# Sort the dictionary by its keys (alphabetically) and convert it back to a dictionary\n",
        "sorted_dict = dict(sorted(my_dict.items()))\n",
        "\n",
        "# Print the sorted dictionary\n",
        "print(sorted_dict)\n"
      ],
      "metadata": {
        "colab": {
          "base_uri": "https://localhost:8080/"
        },
        "id": "WGx3yI9c5PTq",
        "outputId": "c5bf8c75-524a-4261-f362-130665fecdfb"
      },
      "execution_count": null,
      "outputs": [
        {
          "output_type": "stream",
          "name": "stdout",
          "text": [
            "{'rajnish': 9, 'ravi': 10, 'sanjeev': 15, 'suraj': 32, 'yash': 2}\n"
          ]
        }
      ]
    },
    {
      "cell_type": "code",
      "source": [
        "# Define a dictionary with names as keys and their corresponding values\n",
        "my_dict = {'ravi': 10, 'rajnish': 9, 'sanjeev': 15, 'yash': 2, 'suraj': 32}\n",
        "\n",
        "# Sort the dictionary by its values (ascending order) and convert it back to a dictionary\n",
        "sorted_dict = dict(sorted(my_dict.items(), key=lambda x: x[1]))\n",
        "\n",
        "# Print the sorted dictionary\n",
        "print(sorted_dict)\n"
      ],
      "metadata": {
        "colab": {
          "base_uri": "https://localhost:8080/"
        },
        "id": "L8tFGTYH7FwA",
        "outputId": "2ea7fc86-3fa3-4805-b0f3-5a5450d3ccdc"
      },
      "execution_count": null,
      "outputs": [
        {
          "output_type": "stream",
          "name": "stdout",
          "text": [
            "{'yash': 2, 'rajnish': 9, 'ravi': 10, 'sanjeev': 15, 'suraj': 32}\n"
          ]
        }
      ]
    },
    {
      "cell_type": "markdown",
      "source": [
        "# **41-write python program to Remove keys with Values Greater than K ( Including mixed values ) nput : test_dict = {‘Gfg’ : 3, ‘is’ : 7, ‘best’ : 10, ‘for’ : 6, ‘geeks’ : ‘CS’}, K = 7 Output : {‘Gfg’ : 3, ‘for’ : 6, ‘geeks’ : ‘CS’}"
      ],
      "metadata": {
        "id": "P4uNOjEV7tnl"
      }
    },
    {
      "cell_type": "code",
      "source": [
        "# Define the original dictionary with mixed types of values\n",
        "test_dict = {'Gfg': 3, 'is': 7, 'best': 10, 'for': 6, 'geeks': 'CS'}\n",
        "\n",
        "# Define the threshold value\n",
        "k = 7\n",
        "\n",
        "# Initialize an empty dictionary to store the filtered results\n",
        "new_dict = {}\n",
        "\n",
        "# Loop through each key-value pair in the original dictionary\n",
        "for key, value in test_dict.items():\n",
        "    # Check if the value is not an integer or if it is less than the threshold 'k'\n",
        "    if type(value) != int or value < k:\n",
        "        # If condition is met, add the key-value pair to the new dictionary\n",
        "        new_dict[key] = value\n",
        "\n",
        "# Print the new dictionary containing the filtered key-value pairs\n",
        "print(new_dict)\n"
      ],
      "metadata": {
        "colab": {
          "base_uri": "https://localhost:8080/"
        },
        "id": "NPcSKHYb7yC0",
        "outputId": "44d86463-24b6-4669-ec56-d6c6245ac9a5"
      },
      "execution_count": null,
      "outputs": [
        {
          "output_type": "stream",
          "name": "stdout",
          "text": [
            "{'Gfg': 3, 'for': 6, 'geeks': 'CS'}\n"
          ]
        }
      ]
    },
    {
      "cell_type": "markdown",
      "source": [
        "# **42-Write a Python program to concatenate the following dictionaries to create a new one\n",
        "\n",
        "Sample Dictionary : dic1={1:10, 2:20} dic2={3:30, 4:40} dic3={5:50,6:60} Expected Result : {1: 10, 2: 20, 3: 30, 4: 40, 5: 50, 6: 60}"
      ],
      "metadata": {
        "id": "bm5pQ13f-Urk"
      }
    },
    {
      "cell_type": "code",
      "source": [
        "# Define three dictionaries\n",
        "dic1 = {1: 10, 2: 20}\n",
        "dic2 = {3: 30, 4: 40}\n",
        "dic3 = {5: 50, 6: 60}\n",
        "\n",
        "# Initialize an empty dictionary to store the merged result\n",
        "merged_dict = {}\n",
        "\n",
        "# Iterate through each dictionary in the tuple of dictionaries\n",
        "for d in (dic1, dic2, dic3):\n",
        "    # Update the merged_dict with the key-value pairs from the current dictionary\n",
        "    merged_dict.update(d)\n",
        "\n",
        "# Print the merged dictionary containing all the key-value pairs\n",
        "print(merged_dict)\n"
      ],
      "metadata": {
        "colab": {
          "base_uri": "https://localhost:8080/"
        },
        "id": "Ltohapqp-a4X",
        "outputId": "98c2fdf1-557f-4447-c4c7-91eddc86e024"
      },
      "execution_count": null,
      "outputs": [
        {
          "output_type": "stream",
          "name": "stdout",
          "text": [
            "{1: 10, 2: 20, 3: 30, 4: 40, 5: 50, 6: 60}\n"
          ]
        }
      ]
    },
    {
      "cell_type": "markdown",
      "source": [
        "# **43-Write a Python program to iterate over dictionaries using for loops"
      ],
      "metadata": {
        "id": "QWyqE4CG_5Qc"
      }
    },
    {
      "cell_type": "code",
      "source": [
        "# Define a dictionary with fruit names as keys and their colors as values\n",
        "dic = {\"apple\": \"red\", \"banana\": \"yellow\", \"orange\": \"orange\"}\n",
        "\n",
        "# Iterate over the dictionary items (key-value pairs)\n",
        "for key, value in dic.items():\n",
        "    # Print the key and its corresponding value\n",
        "    print(key, \":\", value)\n"
      ],
      "metadata": {
        "colab": {
          "base_uri": "https://localhost:8080/"
        },
        "id": "Ozj0rU2N_8Uh",
        "outputId": "6f7cf14f-01ee-433c-f807-a08a4da99650"
      },
      "execution_count": null,
      "outputs": [
        {
          "output_type": "stream",
          "name": "stdout",
          "text": [
            "apple : red\n",
            "banana : yellow\n",
            "orange : orange\n"
          ]
        }
      ]
    },
    {
      "cell_type": "code",
      "source": [
        "# Define two dictionaries\n",
        "dict1 = {'a': 1, 'b': 2}\n",
        "dict2 = {'c': 3, 'd': 4}\n",
        "\n",
        "# Iterate over both dictionaries\n",
        "for d in (dict1, dict2):\n",
        "    # Iterate over each key-value pair in the current dictionary\n",
        "    for key, value in d.items():\n",
        "        # Print the key and its corresponding value\n",
        "        print(key, \":\", value)\n"
      ],
      "metadata": {
        "colab": {
          "base_uri": "https://localhost:8080/"
        },
        "id": "oQt_2N0ABNHc",
        "outputId": "2e7bb277-1d51-4c90-c309-4279b8b4f0b8"
      },
      "execution_count": null,
      "outputs": [
        {
          "output_type": "stream",
          "name": "stdout",
          "text": [
            "a : 1\n",
            "b : 2\n",
            "c : 3\n",
            "d : 4\n"
          ]
        }
      ]
    },
    {
      "cell_type": "markdown",
      "source": [
        "# **44- Write a Python script to merge two Python dictionaries"
      ],
      "metadata": {
        "id": "ao3rW6AeB2ob"
      }
    },
    {
      "cell_type": "code",
      "source": [
        "# Define two dictionaries\n",
        "dict1 = {'a': 1, 'b': 2}\n",
        "dict2 = {'c': 3, 'd': 4}\n",
        "\n",
        "# Create a copy of dict1\n",
        "merged_dict = dict1.copy()\n",
        "\n",
        "# Update the copy with items from dict2\n",
        "merged_dict.update(dict2)\n",
        "\n",
        "# Print the merged dictionary\n",
        "print(merged_dict)\n"
      ],
      "metadata": {
        "colab": {
          "base_uri": "https://localhost:8080/"
        },
        "id": "oUS6jFqWCI1h",
        "outputId": "a36f8cab-38ac-4c35-f854-e71fb79c6ef9"
      },
      "execution_count": null,
      "outputs": [
        {
          "output_type": "stream",
          "name": "stdout",
          "text": [
            "{'a': 1, 'b': 2, 'c': 3, 'd': 4}\n"
          ]
        }
      ]
    },
    {
      "cell_type": "markdown",
      "source": [
        "# **45-Write a Python program to get the maximum and minimum values of a dictionary values"
      ],
      "metadata": {
        "id": "-Ar5f8PyDLre"
      }
    },
    {
      "cell_type": "code",
      "source": [
        "dic = {'a': 1, 'b': 2, 'c': 3, 'd': 4}\n",
        "\n",
        "# Find the maximum value in the dictionary\n",
        "max_val = max(dic.values())\n",
        "\n",
        "# Find the minimum value in the dictionary\n",
        "min_val = min(dic.values())\n",
        "\n",
        "# Print the results\n",
        "print(\"Maximum value:\", max_val)\n",
        "print(\"Minimum value:\", min_val)\n"
      ],
      "metadata": {
        "colab": {
          "base_uri": "https://localhost:8080/"
        },
        "id": "gSZZO8xHDNrF",
        "outputId": "b20c7ccb-d35d-49be-9c5c-b75ad889f632"
      },
      "execution_count": null,
      "outputs": [
        {
          "output_type": "stream",
          "name": "stdout",
          "text": [
            "Maximum value: 4\n",
            "Minimum value: 1\n"
          ]
        }
      ]
    },
    {
      "cell_type": "markdown",
      "source": [
        "# **46- Write a Python program to drop empty items from a given dictionary. Original Dictionary: {'c1': 'Red', 'c2': 'Green', 'c3': None} New Dictionary after dropping empty items: {'c1': 'Red', 'c2': 'Green'}"
      ],
      "metadata": {
        "id": "mWPnVPQNDw7D"
      }
    },
    {
      "cell_type": "code",
      "source": [
        "Dictionary = {'c1': 'Red', 'c2': 'Green', 'c3': None}\n",
        "\n",
        "# Filter out None values - creates a new dictionary\n",
        "clean_dict = {k: v for k, v in Dictionary.items() if v is not None}\n",
        "\n",
        "# Print the clean dictionary\n",
        "print(clean_dict)\n"
      ],
      "metadata": {
        "colab": {
          "base_uri": "https://localhost:8080/"
        },
        "id": "atvFkRIEEEvT",
        "outputId": "8dad98cb-c671-4e18-908c-091a638a3b51"
      },
      "execution_count": null,
      "outputs": [
        {
          "output_type": "stream",
          "name": "stdout",
          "text": [
            "{'c1': 'Red', 'c2': 'Green'}\n"
          ]
        }
      ]
    },
    {
      "cell_type": "markdown",
      "source": [
        "# **47-Write a Python program to create a tuple of numbers and print one item"
      ],
      "metadata": {
        "id": "kBpYt1zGIzNv"
      }
    },
    {
      "cell_type": "code",
      "source": [
        "# Create a tuple of numbers\n",
        "n_tuple = (1,2,6,8,0)\n",
        "\n",
        "# Print one item (the first item)\n",
        "print(n_tuple[0])"
      ],
      "metadata": {
        "colab": {
          "base_uri": "https://localhost:8080/"
        },
        "id": "AbSzlS6XI8F2",
        "outputId": "b82f82e4-20ed-4380-959c-a45f79fcbc96"
      },
      "execution_count": null,
      "outputs": [
        {
          "output_type": "stream",
          "name": "stdout",
          "text": [
            "1\n"
          ]
        }
      ]
    },
    {
      "cell_type": "markdown",
      "source": [
        "# **48-Write a Python program to unpack a tuple into several variables"
      ],
      "metadata": {
        "id": "QWMOPQKwJxvI"
      }
    },
    {
      "cell_type": "code",
      "source": [
        "fruits = (\"apple\", \"orange\", \"banana\")\n",
        "\n",
        "# Unpacking the tuple into variables\n",
        "green, orange, yellow = fruits\n",
        "\n",
        "# Printing the values\n",
        "print(green)    # Will print 'apple'\n",
        "print(orange)   # Will print 'orange'\n",
        "print(yellow)   # Will print 'banana'\n"
      ],
      "metadata": {
        "colab": {
          "base_uri": "https://localhost:8080/"
        },
        "id": "rh4eJUWbJhLk",
        "outputId": "d1908e52-6890-483d-ae19-5a81947de164"
      },
      "execution_count": null,
      "outputs": [
        {
          "output_type": "stream",
          "name": "stdout",
          "text": [
            "apple\n",
            "orange\n",
            "banana\n"
          ]
        }
      ]
    },
    {
      "cell_type": "markdown",
      "source": [
        "# **49-Write a Python program to add an item to a tuple"
      ],
      "metadata": {
        "id": "_15T_do7KYLf"
      }
    },
    {
      "cell_type": "code",
      "source": [
        "fruits = (\"apple\", \"orange\", \"banana\")\n",
        "\n",
        "# Convert tuple to list\n",
        "fruits_list = list(fruits)\n",
        "\n",
        "# Append \"mango\"\n",
        "fruits_list.append(\"mango\")\n",
        "\n",
        "# Convert back to tuple\n",
        "fruits = tuple(fruits_list)\n",
        "\n",
        "print(fruits)"
      ],
      "metadata": {
        "colab": {
          "base_uri": "https://localhost:8080/"
        },
        "id": "NnF_rLXeL25K",
        "outputId": "e6bb6c48-6e0c-465e-dbae-ab037ac94c36"
      },
      "execution_count": null,
      "outputs": [
        {
          "output_type": "stream",
          "name": "stdout",
          "text": [
            "('apple', 'orange', 'banana', 'mango')\n"
          ]
        }
      ]
    },
    {
      "cell_type": "code",
      "source": [
        "fruits = (\"apple\", \"orange\", \"banana\")\n",
        "\n",
        "# Adding a new element \"mango\" to the tuple\n",
        "fruits += (\"mango\",)\n",
        "\n",
        "# Printing the modified tuple\n",
        "print(fruits)\n"
      ],
      "metadata": {
        "colab": {
          "base_uri": "https://localhost:8080/"
        },
        "id": "ILqI2d3qLAxk",
        "outputId": "64e963a9-202c-43c9-faf6-151a72c3e1f3"
      },
      "execution_count": null,
      "outputs": [
        {
          "output_type": "stream",
          "name": "stdout",
          "text": [
            "('apple', 'orange', 'banana', 'mango')\n"
          ]
        }
      ]
    },
    {
      "cell_type": "markdown",
      "source": [
        "# **50-Write a Python program to convert a tuple to a string"
      ],
      "metadata": {
        "id": "dUn7odJQNGS5"
      }
    },
    {
      "cell_type": "code",
      "source": [
        "# Define a tuple containing individual characters\n",
        "tup = (\"h\", \"e\", \"n\", \"d\")\n",
        "\n",
        "# Join the elements of the tuple into a single string using the join() method\n",
        "tup_to_string = \"\".join(tup)\n",
        "\n",
        "# Print the resulting string\n",
        "print(tup_to_string)\n"
      ],
      "metadata": {
        "colab": {
          "base_uri": "https://localhost:8080/"
        },
        "id": "oEwS1pzvMwnd",
        "outputId": "be065ced-5286-4d36-9790-819d0bf082f8"
      },
      "execution_count": null,
      "outputs": [
        {
          "output_type": "stream",
          "name": "stdout",
          "text": [
            "hend\n"
          ]
        }
      ]
    },
    {
      "cell_type": "markdown",
      "source": [
        "# **51-Write a Python program to convert a list to a tuple"
      ],
      "metadata": {
        "id": "RrkNuvuQOMKa"
      }
    },
    {
      "cell_type": "code",
      "source": [
        "# Define a tuple containing fruit names\n",
        "tup = (\"apple\", \"orange\", \"banana\")\n",
        "\n",
        "# Convert the tuple to a list using the list() constructor\n",
        "tup_to_list = list(tup)\n",
        "\n",
        "# Print the resulting list\n",
        "print(tup_to_list)\n"
      ],
      "metadata": {
        "colab": {
          "base_uri": "https://localhost:8080/"
        },
        "id": "DFG9xlCnOT8q",
        "outputId": "091405a6-c8c0-408d-886e-43922031ff5b"
      },
      "execution_count": null,
      "outputs": [
        {
          "output_type": "stream",
          "name": "stdout",
          "text": [
            "['apple', 'orange', 'banana']\n"
          ]
        }
      ]
    },
    {
      "cell_type": "markdown",
      "source": [
        "# **52-Write a Python program to reverse a tuple"
      ],
      "metadata": {
        "id": "evnzNKmUOpVd"
      }
    },
    {
      "cell_type": "code",
      "source": [
        "# Define a tuple with numeric values\n",
        "num_tup = (1, 2, 3, 4, 5)\n",
        "\n",
        "# Convert the tuple into a list using the list() constructor\n",
        "tup_to_list = list(num_tup)\n",
        "\n",
        "# Reverse the list using the reverse() method\n",
        "tup_to_list.reverse()\n",
        "\n",
        "# Convert the reversed list back into a tuple\n",
        "num_tup = tuple(tup_to_list)\n",
        "\n",
        "# Print the reversed tuple\n",
        "print(num_tup)\n"
      ],
      "metadata": {
        "colab": {
          "base_uri": "https://localhost:8080/"
        },
        "id": "Fz_gFEKVPIp0",
        "outputId": "c9ef6d84-077e-44db-ab38-d1e00e6e4f3f"
      },
      "execution_count": null,
      "outputs": [
        {
          "output_type": "stream",
          "name": "stdout",
          "text": [
            "(5, 4, 3, 2, 1)\n"
          ]
        }
      ]
    },
    {
      "cell_type": "code",
      "source": [
        "# Define a tuple with numeric values\n",
        "num_tup = (1, 2, 3, 4, 5)\n",
        "\n",
        "# Use slicing to reverse the tuple\n",
        "rev_tup = num_tup[::-1]\n",
        "\n",
        "# Print the reversed tuple\n",
        "print(rev_tup)\n"
      ],
      "metadata": {
        "colab": {
          "base_uri": "https://localhost:8080/"
        },
        "id": "wGp1GjLIOoMI",
        "outputId": "a3bb7812-7e7a-4670-98c6-d856233634e2"
      },
      "execution_count": null,
      "outputs": [
        {
          "output_type": "stream",
          "name": "stdout",
          "text": [
            "(5, 4, 3, 2, 1)\n"
          ]
        }
      ]
    },
    {
      "cell_type": "markdown",
      "source": [
        "# **53-Write a Python program to replace the last value of tuples in a list. Sample list: [(10, 20, 40), (40, 50, 60), (70, 80, 90)] Expected Output: [(10, 20, 100), (40, 50, 100), (70, 80, 100)]"
      ],
      "metadata": {
        "id": "cKDR5qSBQaQi"
      }
    },
    {
      "cell_type": "code",
      "source": [
        "# Original list of tuples\n",
        "sample_list = [(10, 20, 40), (40, 50, 60), (70, 80, 90)]\n",
        "\n",
        "# Loop through each tuple in the list by index\n",
        "for i in range(len(sample_list)):\n",
        "  sample_list[i] = sample_list[i][:-1] + (100,)\n",
        "\n",
        "# Print the updated list\n",
        "print(\"Updated list:\", sample_list)"
      ],
      "metadata": {
        "id": "1-bWtJ5FPC_m",
        "colab": {
          "base_uri": "https://localhost:8080/"
        },
        "outputId": "a6a14936-6a3f-4cdc-82da-c6bf77692afd"
      },
      "execution_count": 14,
      "outputs": [
        {
          "output_type": "stream",
          "name": "stdout",
          "text": [
            "Updated list: [(10, 20, 100), (40, 50, 100), (70, 80, 100)]\n"
          ]
        }
      ]
    },
    {
      "cell_type": "markdown",
      "source": [
        "# **54-Write a Python program to convert a given string list to a tuple Original string: python 3.0 <class 'str'> Convert the said string to a tuple: ('p', 'y', 't', 'h', 'o', 'n', '3', '.', '0')"
      ],
      "metadata": {
        "id": "MlJK5IDDkvXy"
      }
    },
    {
      "cell_type": "code",
      "source": [
        "# Define an original string\n",
        "original_string = \"python 3.0\"\n",
        "\n",
        "# Convert the string into a tuple where each character becomes an individual element\n",
        "string_tuple = tuple(original_string)\n",
        "\n",
        "# Print the original string and its type\n",
        "print(\"original string: \", original_string, type(original_string))\n",
        "\n",
        "# Print the tuple containing the characters of the original string\n",
        "print(string_tuple)\n"
      ],
      "metadata": {
        "id": "y4Ccm0-UR-ZG",
        "colab": {
          "base_uri": "https://localhost:8080/"
        },
        "outputId": "a32d6336-41d2-4eb7-a1e3-9b2bf342fc01"
      },
      "execution_count": null,
      "outputs": [
        {
          "output_type": "stream",
          "name": "stdout",
          "text": [
            "original string:  python 3.0 <class 'str'>\n",
            "('p', 'y', 't', 'h', 'o', 'n', ' ', '3', '.', '0')\n"
          ]
        }
      ]
    },
    {
      "cell_type": "markdown",
      "source": [
        "# **55-Write a Python program to calculate the average value of the numbers in a given tuple of tuples"
      ],
      "metadata": {
        "id": "V3kBn1tcmkqd"
      }
    },
    {
      "cell_type": "code",
      "source": [
        "# Tuple of tuples containing numbers\n",
        "numbers = ((10, 20, 30), (40, 50, 60), (70, 80, 90))\n",
        "\n",
        "# Initialize variables to store the total sum and count of all numbers\n",
        "total_sum = 0\n",
        "total_count = 0\n",
        "\n",
        "# Iterate through each tuple in the main tuple\n",
        "total = 0\n",
        "count = 0\n",
        "\n",
        "# Loop through each inner tuple\n",
        "for tup in numbers:\n",
        "  # Loop through each number inside the current tuple\n",
        "  for num in tup :\n",
        "    total += num\n",
        "    count += 1\n",
        "\n",
        "# Calculate the average by dividing the total by the count\n",
        "average = total / count\n",
        "\n",
        "# Print the result\n",
        "print(\"Average value:\", average)"
      ],
      "metadata": {
        "id": "f9nBDpnFmdSJ",
        "colab": {
          "base_uri": "https://localhost:8080/"
        },
        "outputId": "8f1e5693-f568-4aee-9480-f192126fa693"
      },
      "execution_count": 15,
      "outputs": [
        {
          "output_type": "stream",
          "name": "stdout",
          "text": [
            "Average value: 50.0\n"
          ]
        }
      ]
    },
    {
      "cell_type": "markdown",
      "source": [
        "# **56-Write a Python program to add member(s) to a set."
      ],
      "metadata": {
        "id": "HGJ2rULCQYns"
      }
    },
    {
      "cell_type": "code",
      "source": [
        "# Initialize a set\n",
        "colors = {\"red\", \"green\", \"blue\"}\n",
        "\n",
        "# Add single element\n",
        "colors.add(\"yellow\")\n",
        "print(\"After adding 'yellow':\", colors)\n",
        "\n",
        "# Add multiple elements\n",
        "colors.update([\"orange\", \"purple\", \"pink\"])\n",
        "print(\"After adding multiple colors:\", colors)\n",
        "\n",
        "# Add elements from another set\n",
        "new_colors = {\"black\", \"white\"}\n",
        "colors.update(new_colors)\n",
        "print(\"After adding another set:\", colors)"
      ],
      "metadata": {
        "id": "oM966yn9oEFH",
        "colab": {
          "base_uri": "https://localhost:8080/"
        },
        "outputId": "f7136317-5018-41da-d369-43deb616c94e"
      },
      "execution_count": null,
      "outputs": [
        {
          "output_type": "stream",
          "name": "stdout",
          "text": [
            "After adding 'yellow': {'blue', 'yellow', 'green', 'red'}\n",
            "After adding multiple colors: {'yellow', 'purple', 'blue', 'pink', 'green', 'orange', 'red'}\n",
            "After adding another set: {'yellow', 'purple', 'white', 'blue', 'black', 'pink', 'green', 'orange', 'red'}\n"
          ]
        }
      ]
    },
    {
      "cell_type": "markdown",
      "source": [
        "# **57-Write a Python program to remove an item from a set if it is present in the set."
      ],
      "metadata": {
        "id": "49LEnhSUSMXs"
      }
    },
    {
      "cell_type": "code",
      "source": [
        "# Define a set of colors\n",
        "colors = {\"red\", \"green\", \"blue\"}\n",
        "\n",
        "# Remove the element \"red\" from the set\n",
        "# If \"red\" does not exist, it will raise a KeyError\n",
        "colors.remove(\"red\")\n",
        "\n",
        "# Print the updated set after removing \"red\"\n",
        "print(colors)\n"
      ],
      "metadata": {
        "colab": {
          "base_uri": "https://localhost:8080/"
        },
        "id": "tGfoUAftQ2VZ",
        "outputId": "ecc235e8-196e-459f-d4c8-ce705cd77296"
      },
      "execution_count": null,
      "outputs": [
        {
          "output_type": "stream",
          "name": "stdout",
          "text": [
            "{'blue', 'green'}\n"
          ]
        }
      ]
    },
    {
      "cell_type": "code",
      "source": [
        "# Define a set of colors\n",
        "colors = {\"red\", \"green\", \"blue\"}\n",
        "\n",
        "# Discard the element \"red\" from the set\n",
        "# If \"red\" does not exist, it will not raise an error, unlike remove()\n",
        "colors.discard(\"red\")\n",
        "\n",
        "# Print the updated set after discarding \"red\"\n",
        "print(colors)\n"
      ],
      "metadata": {
        "colab": {
          "base_uri": "https://localhost:8080/"
        },
        "id": "cyF6rYO8RILh",
        "outputId": "ab29e638-443d-437d-a862-81c6ba58be4f"
      },
      "execution_count": null,
      "outputs": [
        {
          "output_type": "stream",
          "name": "stdout",
          "text": [
            "{'blue', 'green'}\n"
          ]
        }
      ]
    },
    {
      "cell_type": "code",
      "source": [
        "# Define a set of colors\n",
        "colors = {\"red\", \"green\", \"blue\"}\n",
        "\n",
        "# Pop a random element from the set\n",
        "# Since sets are unordered, the element that is removed is not guaranteed\n",
        "popped_element = colors.pop()\n",
        "\n",
        "# Print the updated set after popping an element\n",
        "# The element removed is not shown but can be accessed via the variable 'popped_element'\n",
        "print(colors)\n"
      ],
      "metadata": {
        "colab": {
          "base_uri": "https://localhost:8080/"
        },
        "id": "uEWc0i2BS3qg",
        "outputId": "663a3913-2c27-418b-bacc-dd891f2360e9"
      },
      "execution_count": null,
      "outputs": [
        {
          "output_type": "stream",
          "name": "stdout",
          "text": [
            "{'green', 'red'}\n"
          ]
        }
      ]
    },
    {
      "cell_type": "markdown",
      "source": [
        "# **58-Write a Python program to create an intersection,union,difference and symmetric difference of sets"
      ],
      "metadata": {
        "id": "8mJd1FIhTNQE"
      }
    },
    {
      "cell_type": "code",
      "source": [
        "# Define a function to perform various set operations\n",
        "def set_operations(set1, set2):\n",
        "    # Return the results of intersection, union, difference, and symmetric difference between the two sets\n",
        "    return set1.intersection(set2), set1.union(set2), set1.difference(set2), set1.symmetric_difference(set2)\n",
        "\n",
        "# Define two sets for the operation\n",
        "set1 = {1, 2, 3, 4, 5}\n",
        "set2 = {4, 5, 6, 7, 8}\n",
        "\n",
        "# Perform the set operations by calling the function\n",
        "result = set_operations(set1, set2)\n",
        "\n",
        "# Print the results of each set operation\n",
        "print(\"intersection: \", result[0])  # Common elements in both sets\n",
        "print(\"union: \", result[1])         # All unique elements from both sets\n",
        "print(\"difference: \", result[2])    # Elements in set1 but not in set2\n",
        "print(\"symmetric difference: \", result[3])  # Elements in set1 or set2 but not in both\n",
        "\n"
      ],
      "metadata": {
        "colab": {
          "base_uri": "https://localhost:8080/"
        },
        "id": "3cHHGoSIUklo",
        "outputId": "878272d3-224d-41a4-fcfe-b2277f006e96"
      },
      "execution_count": null,
      "outputs": [
        {
          "output_type": "stream",
          "name": "stdout",
          "text": [
            "intersection:  {4, 5}\n",
            "union:  {1, 2, 3, 4, 5, 6, 7, 8}\n",
            "difference:  {1, 2, 3}\n",
            "symmetric difference:  {1, 2, 3, 6, 7, 8}\n"
          ]
        }
      ]
    },
    {
      "cell_type": "markdown",
      "source": [
        "# **59-Write a Python program to find the maximum and minimum values in a set"
      ],
      "metadata": {
        "id": "jhYAHY3cXKt3"
      }
    },
    {
      "cell_type": "code",
      "source": [
        "# Define a set of numbers\n",
        "num_set = {1, 2, 3, 4, 5}\n",
        "\n",
        "# Find and print the maximum value in the set\n",
        "print(max(num_set))  # Outputs the largest value in the set\n",
        "\n",
        "# Find and print the minimum value in the set\n",
        "print(min(num_set))  # Outputs the smallest value in the set\n"
      ],
      "metadata": {
        "colab": {
          "base_uri": "https://localhost:8080/"
        },
        "id": "6jvm4tOjT0US",
        "outputId": "bb9a2c04-814b-4d7c-de44-cb1af01e82d2"
      },
      "execution_count": 20,
      "outputs": [
        {
          "output_type": "stream",
          "name": "stdout",
          "text": [
            "5\n",
            "1\n"
          ]
        }
      ]
    },
    {
      "cell_type": "markdown",
      "source": [
        "# **60- Write a Python program that finds all pairs of elements in a list whose sum is equal to a given value."
      ],
      "metadata": {
        "id": "QEpjVXU_XiDX"
      }
    },
    {
      "cell_type": "code",
      "source": [
        "# Function to find all unique pairs of numbers that add up to a target sum\n",
        "def find_pairs_with_sum(numbers, target_sum):\n",
        "    pairs = []       # List to store the result pairs\n",
        "    seen = set()     # Set to keep track of numbers we've seen so far\n",
        "\n",
        "    # Loop through each number in the list\n",
        "    for num in numbers:\n",
        "        complement = target_sum - num  # Calculate the complement that would sum to the target\n",
        "        if complement in seen:\n",
        "            # If the complement is already seen, we found a pair\n",
        "            pairs.append((complement, num))\n",
        "        # Add the current number to the seen set\n",
        "        seen.add(num)\n",
        "\n",
        "    return pairs  # Return all found pairs\n",
        "\n",
        "# Take a list of integers from the user\n",
        "numbers = list(map(int, input(\"Enter a list of numbers: \").split()))\n",
        "\n",
        "# Take the target sum value from the user\n",
        "target_sum = int(input(\"Enter the target sum: \"))\n",
        "\n",
        "# Find the pairs and store the result\n",
        "result = find_pairs_with_sum(numbers, target_sum)\n",
        "\n",
        "# Print the resulting pairs\n",
        "print(result)\n"
      ],
      "metadata": {
        "colab": {
          "base_uri": "https://localhost:8080/"
        },
        "id": "IuVHsXd3XbMq",
        "outputId": "b04c3ad0-d25e-42fd-d289-7ee0c63dcf58"
      },
      "execution_count": 16,
      "outputs": [
        {
          "output_type": "stream",
          "name": "stdout",
          "text": [
            "Enter a list of numbers: 1 2 3 4 5 6 7 8 9\n",
            "Enter the target sum: 7\n",
            "[(3, 4), (2, 5), (1, 6)]\n"
          ]
        }
      ]
    }
  ]
}