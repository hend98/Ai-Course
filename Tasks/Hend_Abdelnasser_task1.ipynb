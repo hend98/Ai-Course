{
  "nbformat": 4,
  "nbformat_minor": 0,
  "metadata": {
    "colab": {
      "provenance": []
    },
    "kernelspec": {
      "name": "python3",
      "display_name": "Python 3"
    },
    "language_info": {
      "name": "python"
    }
  },
  "cells": [
    {
      "cell_type": "markdown",
      "source": [
        "# 1- Write a Python program to find the area of a triangle"
      ],
      "metadata": {
        "id": "NKJgTuyIsDem"
      }
    },
    {
      "cell_type": "markdown",
      "source": [
        "1_Area of a triangle using its base and height."
      ],
      "metadata": {
        "id": "0Sm_q0wf1rOr"
      }
    },
    {
      "cell_type": "code",
      "execution_count": null,
      "metadata": {
        "colab": {
          "base_uri": "https://localhost:8080/"
        },
        "id": "w3Ou2l-Xrmln",
        "outputId": "b56179bf-06a9-4404-aa65-0360d5cd4829"
      },
      "outputs": [
        {
          "output_type": "stream",
          "name": "stdout",
          "text": [
            "Enter the base length: 10\n",
            "Enter the height length: 5\n",
            "The area of the triangle is: 25.0\n"
          ]
        }
      ],
      "source": [
        "# Define a function to calculate the area of a triangle\n",
        "def calculate_triangle_area(base, height):\n",
        "    # Calculate the area of the triangle\n",
        "    area = 0.5 * base * height\n",
        "    return area\n",
        "\n",
        "# Take user inputs for base and height\n",
        "base = float(input(\"Enter the base length: \"))\n",
        "height = float(input(\"Enter the height length: \"))\n",
        "\n",
        "# Call the function and get the result\n",
        "area = calculate_triangle_area(base, height)\n",
        "\n",
        "# Print the result\n",
        "print(\"The area of the triangle is:\", area)\n"
      ]
    },
    {
      "cell_type": "markdown",
      "source": [
        "2_Area of a triangle using Heron's Formula ( length of all three sides)."
      ],
      "metadata": {
        "id": "Jw7mKvqG6LCT"
      }
    },
    {
      "cell_type": "code",
      "source": [
        "#Importing the math module\n",
        "import math\n",
        "\n",
        "# Function using Heron's formula to define a function to calculate the area of a triangle\n",
        "def area_of_triangle (a, b, c) :\n",
        "  s = a + b + c / 2\n",
        "  area = math.sqrt(s *(s-a)*(s-b)*(s-c))\n",
        "  return area\n",
        "\n",
        "# Input side lengths\n",
        "side_1 = float(input(\"Please enter the length of the first side : \"))\n",
        "side_2 = float(input(\"Please enter the length of the second side : \"))\n",
        "side_3 = float(input(\"Please enter the length of the third side : \"))\n",
        "\n",
        "# Calculate the area using Heron's formula\n",
        "area = area_of_triangle(side_1, side_2, side_3)\n",
        "\n",
        "#Printing the area\n",
        "print(\"Area of the triangle using Heron's formula: \", round(area,2))"
      ],
      "metadata": {
        "colab": {
          "base_uri": "https://localhost:8080/"
        },
        "id": "AL0XxaFJ0Y3x",
        "outputId": "c4e427f9-211c-4407-c663-b21c74007c52"
      },
      "execution_count": null,
      "outputs": [
        {
          "output_type": "stream",
          "name": "stdout",
          "text": [
            "Please enter the length of the first side : 5\n",
            "Please enter the length of the second side : 6\n",
            "Please enter the length of the third side : 7\n",
            "Area of the triangle using Heron's formula:  93.71\n"
          ]
        }
      ]
    },
    {
      "cell_type": "markdown",
      "source": [
        "3_Area of a triangle using Python class."
      ],
      "metadata": {
        "id": "NnSa1Xhj-yyV"
      }
    },
    {
      "cell_type": "code",
      "source": [
        "# Define the Triangle class\n",
        "class Triangle :\n",
        "  # Constructor to initialize the object with base and height\n",
        "  def __init__(self, base, height) :\n",
        "    self.base = base\n",
        "    self.height = height\n",
        "\n",
        "  # Method to calculate the area of the triangle using base and height\n",
        "  def calculate_area(self) :\n",
        "    return 0.5 *self.base *self.height\n",
        "\n",
        "# Take input from the user\n",
        "base = float(input(\"Enter the base length\"))\n",
        "height = float(input(\"Enter the height length\"))\n",
        "\n",
        "# Create an instance of the Triangle class using the user inputs\n",
        "triangle1 = Triangle(base, height)\n",
        "\n",
        "# Calculate the area of the triangle using the calculate_area method\n",
        "area = triangle1.calculate_area()\n",
        "\n",
        "# Display the calculated area\n",
        "print(\"Area of the triangle is : \", area)"
      ],
      "metadata": {
        "colab": {
          "base_uri": "https://localhost:8080/"
        },
        "id": "rSHnWGOL6aOE",
        "outputId": "da53389d-37ee-4abe-e764-bdc0ba2d6c56"
      },
      "execution_count": null,
      "outputs": [
        {
          "output_type": "stream",
          "name": "stdout",
          "text": [
            "Enter the base length10\n",
            "Enter the height length5\n",
            "Area of the triangle is :  25.0\n"
          ]
        }
      ]
    },
    {
      "cell_type": "markdown",
      "source": [
        "4_Area Of Triangle In Python Using Trigonometric Functions"
      ],
      "metadata": {
        "id": "fj205HlmNRVb"
      }
    },
    {
      "cell_type": "code",
      "source": [
        "import math\n",
        "\n",
        "# Define a function to calculate the area using the trigonometric formula\n",
        "def calculate_trigonometric_area(side1, side2, angle):\n",
        "    # Calculate the area using the trigonometric formula\n",
        "    trigo_area = 0.5 * side1 * side2 * math.sin(math.radians(angle))\n",
        "    return trigo_area\n",
        "\n",
        "# Take user inputs for side lengths and included angle\n",
        "side1 = float(input(\"Enter the first side length: \"))\n",
        "side2 = float(input(\"Enter the second side length: \"))\n",
        "angle = float(input(\"Enter the included angle in degrees: \"))\n",
        "\n",
        "# Call the function and get the result\n",
        "area = calculate_trigonometric_area(side1, side2, angle)\n",
        "\n",
        "# Display the result rounded to 2 decimal places\n",
        "print(\"Calculated area is:\", round(area, 2))\n"
      ],
      "metadata": {
        "colab": {
          "base_uri": "https://localhost:8080/"
        },
        "id": "Is9qKHIpELss",
        "outputId": "1d41c2af-441d-4aba-983f-ed401ba0e001"
      },
      "execution_count": null,
      "outputs": [
        {
          "output_type": "stream",
          "name": "stdout",
          "text": [
            "Enter the first side length: 5\n",
            "Enter the second side length: 7\n",
            "Enter the included angle in degrees: 45\n",
            "Calculated area is: 12.37\n"
          ]
        }
      ]
    },
    {
      "cell_type": "markdown",
      "source": [
        "5_Python Program To Calculate Area Of Equilateral Triangle"
      ],
      "metadata": {
        "id": "ALWY06EITdnM"
      }
    },
    {
      "cell_type": "code",
      "source": [
        "import math\n",
        "\n",
        "# Define a function to calculate the area of an equilateral triangle\n",
        "def calculate_equilateral_triangle_area(side):\n",
        "    # Calculate the area using the formula\n",
        "    area = (math.sqrt(3) / 4) * (side ** 2)\n",
        "    return area\n",
        "\n",
        "# Get the side length from the user\n",
        "side = float(input(\"Enter the side length of the equilateral triangle: \"))\n",
        "\n",
        "# Call the function and get the area\n",
        "area = calculate_equilateral_triangle_area(side)\n",
        "\n",
        "# Display the result\n",
        "print(\"The area of the equilateral triangle is:\", round(area, 2))\n"
      ],
      "metadata": {
        "colab": {
          "base_uri": "https://localhost:8080/"
        },
        "id": "hoGJMkoQR9sO",
        "outputId": "aa4226be-f40d-40f0-83c5-4cf95d40c6b4"
      },
      "execution_count": null,
      "outputs": [
        {
          "output_type": "stream",
          "name": "stdout",
          "text": [
            "Enter the side length of the equilateral triangle: 6\n",
            "The area of the equilateral triangle is: 15.59\n"
          ]
        }
      ]
    },
    {
      "cell_type": "markdown",
      "source": [
        "# 2- Write a Python program to swap two variables."
      ],
      "metadata": {
        "id": "3l9cS2pdVWh7"
      }
    },
    {
      "cell_type": "markdown",
      "source": [
        "1_ Pythonic Way (Without Temporary Variable)"
      ],
      "metadata": {
        "id": "Ru_HuXz6nYJB"
      }
    },
    {
      "cell_type": "code",
      "source": [
        "# Get input from the user\n",
        "a = input(\"Enter the first variable (a): \")\n",
        "b = input(\"Enter the second variable (b): \")\n",
        "\n",
        "# Swap without using a temp variable\n",
        "a, b = b, a\n",
        "\n",
        "# Print the swapped values\n",
        "print(\"After swapping:\")\n",
        "print(\"a : \", a)\n",
        "print(\"b : \", b)"
      ],
      "metadata": {
        "colab": {
          "base_uri": "https://localhost:8080/"
        },
        "id": "BaY5yXyaR-to",
        "outputId": "d757fb1b-ac7e-45ca-e3db-bafaf2bc32f5"
      },
      "execution_count": null,
      "outputs": [
        {
          "output_type": "stream",
          "name": "stdout",
          "text": [
            "Enter the first variable (a): 90\n",
            "Enter the second variable (b): 20\n",
            "After swapping:\n",
            "a :  20\n",
            "b :  90\n"
          ]
        }
      ]
    },
    {
      "cell_type": "markdown",
      "source": [
        "2_ Swap Using a Temporary Variable"
      ],
      "metadata": {
        "id": "Olwc0ph5nD1M"
      }
    },
    {
      "cell_type": "code",
      "source": [
        "# Get input from the user\n",
        "a = input(\"Enter the first variable: \")\n",
        "b = input(\"Enter the second variable: \")\n",
        "\n",
        "# Swap using a temporary variable\n",
        "temp = a\n",
        "a = b\n",
        "b = temp\n",
        "\n",
        "# Print the swapped values\n",
        "print(\"After swapping:\")\n",
        "print(\"a : \", a)\n",
        "print(\"b : \", b)"
      ],
      "metadata": {
        "colab": {
          "base_uri": "https://localhost:8080/"
        },
        "id": "jVpLUrp_mqwD",
        "outputId": "3751a7b6-964b-481a-f451-f78c5c526737"
      },
      "execution_count": null,
      "outputs": [
        {
          "output_type": "stream",
          "name": "stdout",
          "text": [
            "Enter the first variable: 90\n",
            "Enter the second variable: 20\n",
            "After swapping:\n",
            "a :  20\n",
            "b :  90\n"
          ]
        }
      ]
    },
    {
      "cell_type": "markdown",
      "source": [
        "# 3-Write a Python program to enter a number from user and convert this number from kilometers to miles."
      ],
      "metadata": {
        "id": "fi_igsoPWGsr"
      }
    },
    {
      "cell_type": "code",
      "source": [
        "def convert_kilometers_to_miles(km):\n",
        "    return km * 0.621371  # Convert kilometers to miles\n",
        "\n",
        "# Get input from the user\n",
        "kilometers = float(input(\"Enter the distance in kilometers: \"))\n",
        "\n",
        "# Call the function and store the result\n",
        "miles = convert_kilometers_to_miles(kilometers)\n",
        "\n",
        "# Print the result\n",
        "print(\"Distance in miles is:\", round(miles, 3))\n"
      ],
      "metadata": {
        "colab": {
          "base_uri": "https://localhost:8080/"
        },
        "id": "P4vOZre0V1Z7",
        "outputId": "6c318464-e8ea-47fc-909b-134f55b5ddfe"
      },
      "execution_count": null,
      "outputs": [
        {
          "output_type": "stream",
          "name": "stdout",
          "text": [
            "Enter the distance in kilometers: 8\n",
            "Distance in miles is: 4.971\n"
          ]
        }
      ]
    }
  ]
}