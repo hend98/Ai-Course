{
  "nbformat": 4,
  "nbformat_minor": 0,
  "metadata": {
    "colab": {
      "provenance": []
    },
    "kernelspec": {
      "name": "python3",
      "display_name": "Python 3"
    },
    "language_info": {
      "name": "python"
    }
  },
  "cells": [
    {
      "cell_type": "markdown",
      "source": [
        "# WAP to enter a number from user and print its absolute value."
      ],
      "metadata": {
        "id": "PLkrbJB0R46v"
      }
    },
    {
      "cell_type": "code",
      "execution_count": null,
      "metadata": {
        "colab": {
          "base_uri": "https://localhost:8080/"
        },
        "id": "GAApCPofRtay",
        "outputId": "4ef99043-4e9f-48d4-dc50-d42e499e6680"
      },
      "outputs": [
        {
          "output_type": "stream",
          "name": "stdout",
          "text": [
            "Enter a number:-12\n",
            "Absolute value: 12\n"
          ]
        }
      ],
      "source": [
        "# Take input from the user\n",
        "num = int(input(\"Enter a number:\"))\n",
        "print(\"Absolute value:\", abs(num))"
      ]
    },
    {
      "cell_type": "code",
      "source": [
        "# Take input from the user\n",
        "num = int(input(\"Enter a number:\"))\n",
        "\n",
        "# Check the number and find absolute value\n",
        "if num < 0 :\n",
        "    absolute_value = -num\n",
        "else :\n",
        "    absolute_value = num\n",
        "\n",
        "# Print the result\n",
        "print(\"Absolute value: \", absolute_value)\n"
      ],
      "metadata": {
        "colab": {
          "base_uri": "https://localhost:8080/"
        },
        "id": "CdHc1dAbU5lq",
        "outputId": "2d854114-ae88-490b-8a1f-518ce0202dd3"
      },
      "execution_count": null,
      "outputs": [
        {
          "output_type": "stream",
          "name": "stdout",
          "text": [
            "Enter a number:-12\n",
            "Absolute value:  12\n"
          ]
        }
      ]
    },
    {
      "cell_type": "markdown",
      "source": [
        "# WAP to enter a year from user and check if it is leap year or not."
      ],
      "metadata": {
        "id": "Hd8-bo8mczx2"
      }
    },
    {
      "cell_type": "code",
      "source": [
        "# Take input from the user\n",
        "year = int(input(\"Enter a year: \"))\n",
        "\n",
        "# Check if the year is a leap year or not\n",
        "if year % 400 == 0:\n",
        "    print(year, \"is a leap year\")  # A year divisible by 400 is always a leap year\n",
        "elif year % 100 == 0:\n",
        "    print(year, \"is not a leap year\")  # A year divisible by 100 but not 400 is not a leap year\n",
        "elif year % 4 == 0:\n",
        "    print(year, \"is a leap year\")  # A year divisible by 4 but not by 100 is a leap year\n",
        "else:\n",
        "    print(year, \"is not a leap year\")  # All other years are not leap years\n"
      ],
      "metadata": {
        "id": "gd-w7QxYaur0",
        "colab": {
          "base_uri": "https://localhost:8080/"
        },
        "outputId": "519bb807-75df-4a0b-af3b-a34e3edf7fe8"
      },
      "execution_count": null,
      "outputs": [
        {
          "output_type": "stream",
          "name": "stdout",
          "text": [
            "Enter a year: 2023\n",
            "2023 is not a leap year\n"
          ]
        }
      ]
    },
    {
      "cell_type": "markdown",
      "source": [
        "# WAP to enter the age of 3 person and print oldest and yougest among them."
      ],
      "metadata": {
        "id": "1DTDWaQEhp05"
      }
    },
    {
      "cell_type": "code",
      "source": [
        "# Take input from the user\n",
        "age_1 = int(input(\"Enter age of person one: \"))\n",
        "age_2 = int(input(\"Enter age of person two: \"))\n",
        "age_3 = int(input(\"Enter age of person three: \"))\n",
        "\n",
        "# Check if all ages are equal\n",
        "if age_1 == age_2 == age_3:\n",
        "    print(f\"All are equal with age {age_1}\")\n",
        "else:\n",
        "    # Determine the oldest person\n",
        "    max_age = max(age_1, age_2, age_3)\n",
        "    if age_1 == max_age and age_2 == max_age:\n",
        "        print(f\"Person one and two are oldest with age {max_age}\")\n",
        "    elif age_1 == max_age and age_3 == max_age:\n",
        "        print(f\"Person one and three are oldest with age {max_age}\")\n",
        "    elif age_2 == max_age and age_3 == max_age:\n",
        "        print(f\"Person two and three are oldest with age {max_age}\")\n",
        "    elif age_1 == max_age:\n",
        "        print(f\"Person one is oldest with age {age_1}\")\n",
        "    elif age_2 == max_age:\n",
        "        print(f\"Person two is oldest with age {age_2}\")\n",
        "    else:\n",
        "        print(f\"Person three is oldest with age {age_3}\")\n",
        "\n",
        "    # Determine the youngest person\n",
        "    min_age = min(age_1, age_2, age_3)\n",
        "    if age_1 == min_age and age_2 == min_age:\n",
        "        print(f\"Person one and two are youngest with age {min_age}\")\n",
        "    elif age_1 == min_age and age_3 == min_age:\n",
        "        print(f\"Person one and three are youngest with age {min_age}\")\n",
        "    elif age_2 == min_age and age_3 == min_age:\n",
        "        print(f\"Person two and three are youngest with age {min_age}\")\n",
        "    elif age_1 == min_age:\n",
        "        print(f\"Person one is youngest with age {age_1}\")\n",
        "    elif age_2 == min_age:\n",
        "        print(f\"Person two is youngest with age {age_2}\")\n",
        "    else:\n",
        "        print(f\"Person three is youngest with age {age_3}\")\n"
      ],
      "metadata": {
        "colab": {
          "base_uri": "https://localhost:8080/"
        },
        "id": "xaUradQu1Z9v",
        "outputId": "1e079016-1140-450a-ffba-bdceafd13d11"
      },
      "execution_count": null,
      "outputs": [
        {
          "output_type": "stream",
          "name": "stdout",
          "text": [
            "Enter age of person one: 90\n",
            "Enter age of person two: 80\n",
            "Enter age of person three: 10\n",
            "Person one is oldest with age 90\n",
            "Person three is youngest with age 10\n"
          ]
        }
      ]
    },
    {
      "cell_type": "markdown",
      "source": [
        "# Write a program that asks the user to enter a series of numbers. The program should ask for numbers until the user enters a negative number. Once the user enters a negative number, the program should stop and print the sum of all the positive numbers entered\n",
        "Example\n",
        "\n",
        "Enter a number: 5\n",
        "\n",
        "Enter a number: 8\n",
        "\n",
        "Enter a number: 12\n",
        "\n",
        "Enter a number: -2\n",
        "\n",
        "The sum of the positive numbers is 25."
      ],
      "metadata": {
        "id": "LHwRZ7IQxX1N"
      }
    },
    {
      "cell_type": "code",
      "source": [
        "#  Initialize the sum\n",
        "sum_positive = 0\n",
        "\n",
        "while True:\n",
        "    # 2. Ask the user for input\n",
        "    num = int(input(\"Enter a number: \"))\n",
        "\n",
        "    # 3. Check if the number is negative to exit the loop\n",
        "    if num < 0:\n",
        "        break\n",
        "\n",
        "    # 4. Add the number to the sum if it's positive\n",
        "    sum_positive += num\n",
        "\n",
        "# 5. Print the final sum\n",
        "print(f\"The sum of the positive numbers is {sum_positive}.\")\n"
      ],
      "metadata": {
        "colab": {
          "base_uri": "https://localhost:8080/"
        },
        "id": "v71C-Tsmvqv-",
        "outputId": "1cf6287a-41fd-49f3-c488-6db3b6664526"
      },
      "execution_count": null,
      "outputs": [
        {
          "output_type": "stream",
          "name": "stdout",
          "text": [
            "Enter a number: 5\n",
            "Enter a number: 8\n",
            "Enter a number: 12\n",
            "Enter a number: -2\n",
            "The sum of the positive numbers is 25.\n"
          ]
        }
      ]
    },
    {
      "cell_type": "markdown",
      "source": [
        "# Write a program that asks the user to enter their name and age. The program should check if the user's age is greater than or equal to 18. If it is, the program should print a message saying they are eligible to vote. Otherwise, the program should print a message saying they are not eligible to vote due to being underage."
      ],
      "metadata": {
        "id": "g-fkq2Myxxb0"
      }
    },
    {
      "cell_type": "code",
      "source": [
        "# Ask the user for their name\n",
        "name = input(\"Enter your name: \")\n",
        "\n",
        "# Ask the user for their age and convert it to an integer\n",
        "age = int(input(\"Enter your age: \"))\n",
        "\n",
        "# Check voting eligibility\n",
        "if age >= 18:\n",
        "    print(f\"Hello {name}, you are eligible to vote.\")\n",
        "else:\n",
        "    print(f\"Sorry {name}, you are not eligible to vote as you are under 18.\")\n"
      ],
      "metadata": {
        "colab": {
          "base_uri": "https://localhost:8080/"
        },
        "id": "_SImNA1nx8ek",
        "outputId": "efe3af3b-45c6-4582-e647-cd2f0efd9c9f"
      },
      "execution_count": null,
      "outputs": [
        {
          "output_type": "stream",
          "name": "stdout",
          "text": [
            "Enter your name: fady\n",
            "Enter your age: 20\n",
            "Hello fady, you are eligible to vote.\n"
          ]
        }
      ]
    },
    {
      "cell_type": "code",
      "source": [
        "def factorial(n):\n",
        "    if n == 0 or n == 1:\n",
        "        return 1\n",
        "    else:\n",
        "        return n * factorial(n - 1)\n",
        "\n",
        "# Ask the user for input\n",
        "num = int(input(\"Enter a number: \"))\n",
        "\n",
        "if num < 0:\n",
        "    print(\"Factorial is not defined for negative numbers.\")\n",
        "else:\n",
        "    print(f\"The factorial of {num} is {factorial(num)}.\")\n"
      ],
      "metadata": {
        "colab": {
          "base_uri": "https://localhost:8080/"
        },
        "id": "cfP7u61gzxYg",
        "outputId": "9947debf-f4ee-4842-c8fb-8eb1bc6d3b25"
      },
      "execution_count": null,
      "outputs": [
        {
          "output_type": "stream",
          "name": "stdout",
          "text": [
            "Enter a number: 6\n",
            "The factorial of 6 is 720.\n"
          ]
        }
      ]
    }
  ]
}